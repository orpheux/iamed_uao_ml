{
 "cells": [
  {
   "cell_type": "markdown",
   "id": "383708a4",
   "metadata": {},
   "source": [
    "# Evaluación Completa de Clustering para Homologación de Medicamentos\n",
    "\n",
    "## **Objetivo del Análisis**\n",
    "\n",
    "Este notebook presenta una **evaluación sistemática y completa** de diferentes algoritmos de clustering aplicados al problema de **homologación de medicamentos**. La homologación farmacéutica requiere agrupar medicamentos con características similares para optimizar procesos regulatorios y de gestión.\n",
    "\n",
    "## **Metodología de Evaluación**\n",
    "\n",
    "El análisis se estructura en **tres enfoques complementarios**:\n",
    "\n",
    "1. **Evaluación Automatizada con PyCaret**: Comparación sistemática de múltiples algoritmos\n",
    "2. **Evaluación Manual con Scikit-Learn**: Control granular de hiperparámetros\n",
    "3. **Métricas Específicas de Homologación**: Evaluación domain-specific\n",
    "\n",
    "## **Características del Dataset**\n",
    "\n",
    "- **Dominio**: Medicamentos para homologación farmacéutica\n",
    "- **Features Críticas**: ATC, Vía de Administración, Principio Activo\n",
    "- **Features Importantes**: Forma Farmacéutica, Cantidad, Unidad de Medida\n",
    "- **Features de Probabilidad**: Scores de confianza para features críticas\n",
    "\n",
    "## **Algoritmos a Evaluar**\n",
    "\n",
    "- **K-Means**: Clustering basado en centroides\n",
    "- **Affinity Propagation**: Clustering por ejemplares\n",
    "- **Mean Shift**: Clustering por cambio de media\n",
    "- **Spectral Clustering**: Clustering basado en teoría de grafos\n",
    "- **Hierarchical Clustering**: Clustering jerárquico\n",
    "- **DBSCAN**: Clustering basado en densidad\n",
    "- **OPTICS**: Extensión optimizada de DBSCAN\n",
    "- **BIRCH**: Balanced Iterative Reducing and Clustering using Hierarchies\n",
    "---"
   ]
  },
  {
   "cell_type": "markdown",
   "id": "aad23140",
   "metadata": {},
   "source": [
    "## **PASO 1: Configuración del Entorno y Dependencias**\n",
    "\n",
    "### **Librerías Principales**\n",
    "\n",
    "En este primer paso, configuramos todo el entorno necesario para realizar una evaluación completa de clustering:\n",
    "\n",
    "- **Polars & Pandas**: Manipulación eficiente de datos\n",
    "- **NumPy**: Operaciones numéricas y arrays\n",
    "- **Matplotlib & Seaborn**: Visualizaciones estáticas\n",
    "- **Plotly**: Visualizaciones interactivas\n",
    "- **PyCaret**: Evaluación automatizada de modelos\n",
    "- **Scikit-Learn**: Algoritmos de ML manual\n",
    "- **Logging**: Sistema de logs para seguimiento\n",
    "\n",
    "### **Configuraciones Importantes**\n",
    "\n",
    "- **Warnings**: Deshabilitados para output limpio\n",
    "- **Estilo de plots**: Configuración uniforme con seaborn\n",
    "- **Logging**: Sistema estructurado de información\n",
    "- **Random state**: Para reproducibilidad de resultados\n",
    "\n",
    "---"
   ]
  },
  {
   "cell_type": "code",
   "execution_count": 2,
   "id": "cc1cac94",
   "metadata": {},
   "outputs": [
    {
     "name": "stdout",
     "output_type": "stream",
     "text": [
      "✅ Dependencias cargadas exitosamente\n",
      "📊 Polars versión: 1.30.0\n",
      "🤖 PyCaret clustering disponible\n"
     ]
    }
   ],
   "source": [
    "# 1. CONFIGURACIÓN DEL ENTORNO Y DEPENDENCIAS\n",
    "# ====================================================================\n",
    "\n",
    "import warnings\n",
    "warnings.filterwarnings('ignore')\n",
    "\n",
    "# Librerías principales\n",
    "import polars as pl\n",
    "import pandas as pd\n",
    "import numpy as np\n",
    "from typing import Dict, List, Tuple, Optional\n",
    "import logging\n",
    "from pathlib import Path\n",
    "\n",
    "# Visualización\n",
    "import matplotlib.pyplot as plt\n",
    "import seaborn as sns\n",
    "import plotly.express as px\n",
    "import plotly.graph_objects as go\n",
    "from plotly.subplots import make_subplots\n",
    "\n",
    "# Machine Learning\n",
    "import pycaret.clustering as clustering\n",
    "from sklearn.cluster import KMeans, DBSCAN, AgglomerativeClustering\n",
    "from sklearn.mixture import GaussianMixture\n",
    "from sklearn.preprocessing import StandardScaler, LabelEncoder\n",
    "from sklearn.metrics import silhouette_score, calinski_harabasz_score, davies_bouldin_score\n",
    "from sklearn.decomposition import PCA\n",
    "from sklearn.manifold import TSNE\n",
    "import umap\n",
    "\n",
    "# Configuración de visualización\n",
    "plt.style.use('seaborn-v0_8')\n",
    "sns.set_palette(\"husl\")\n",
    "\n",
    "# Configuración de logging\n",
    "logging.basicConfig(\n",
    "    level=logging.INFO,\n",
    "    format='%(asctime)s - %(levelname)s - %(message)s'\n",
    ")\n",
    "logger = logging.getLogger(__name__)\n",
    "\n",
    "print(\"✅ Dependencias cargadas exitosamente\")\n",
    "print(f\"📊 Polars versión: {pl.__version__}\")\n",
    "print(f\"🤖 PyCaret clustering disponible\")\n"
   ]
  },
  {
   "cell_type": "markdown",
   "id": "bdae1610",
   "metadata": {},
   "source": [
    "## **PASO 2: Configuración y Constantes del Proyecto**\n",
    "\n",
    "### **Diseño de la Configuración**\n",
    "\n",
    "Se implementa una **clase de configuración centralizada** que define todos los parámetros críticos para la evaluación de clustering en el contexto farmacéutico:\n",
    "\n",
    "### **Rutas de Archivos**\n",
    "- **Dataset de entrenamiento**: `dataset_entrenamiento_homologacion.parquet`\n",
    "- **Directorio de resultados**: Para exportar análisis\n",
    "\n",
    "### **Jerarquía de Features por Importancia**\n",
    "\n",
    "1. **CRÍTICAS** (Peso 70%):\n",
    "   - `ATC_label`: Código ATC (clasificación terapéutica)\n",
    "   - `VÍA ADMINISTRACIÓN_label`: Vía de administración\n",
    "   - `PRINCIPIO ACTIVO_label`: Principio activo\n",
    "\n",
    "2. **IMPORTANTES** (Peso 20%):\n",
    "   - `FORMA FARMACÉUTICA_label`: Presentación del medicamento\n",
    "   - `CANTIDAD_log` y `CANTIDAD_CUM_log`: Cantidades transformadas\n",
    "   - `RATIO_CANTIDAD`: Relación entre cantidades\n",
    "\n",
    "3. **PROBABILIDAD** (Peso 10%):\n",
    "   - Scores de confianza para validación de features críticas\n",
    "\n",
    "### **Algoritmos a Evaluar con PyCaret**\n",
    "\n",
    "- **K-Means**: Clustering basado en centroides\n",
    "- **Affinity Propagation**: Clustering por ejemplares\n",
    "- **Mean Shift**: Clustering por cambio de media\n",
    "- **Spectral Clustering**: Clustering espectral\n",
    "- **Hierarchical Clustering**: Clustering jerárquico\n",
    "- **DBSCAN**: Clustering basado en densidad\n",
    "- **OPTICS**: Extensión de DBSCAN\n",
    "- **BIRCH**: Clustering incremental\n",
    "- **K-Modes**: Para datos categóricos\n",
    "\n",
    "### **Configuración de Muestreo**\n",
    "- **50,000 registros** para evaluación inicial\n",
    "- **10,000 registros** para entrenamiento detallado\n",
    "- **Reproducibilidad** con random_state=42\n",
    "\n",
    "---"
   ]
  },
  {
   "cell_type": "code",
   "execution_count": 3,
   "id": "5e90a8e8",
   "metadata": {},
   "outputs": [
    {
     "name": "stderr",
     "output_type": "stream",
     "text": [
      "2025-06-21 15:43:16,788 - INFO - ✅ Configuración inicializada\n"
     ]
    }
   ],
   "source": [
    "# 2. CONFIGURACIÓN Y CONSTANTES\n",
    "# ====================================================================\n",
    "\n",
    "class ConfiguracionClustering:\n",
    "    \"\"\"\n",
    "    Configuración centralizada para evaluación de modelos de clustering.\n",
    "    \n",
    "    Esta clase contiene todas las configuraciones necesarias para la evaluación\n",
    "    sistemática de algoritmos de clustering en el contexto de homologación\n",
    "    de medicamentos.\n",
    "    \"\"\"\n",
    "    \n",
    "    # Rutas de archivos\n",
    "    RUTA_DATOS = './data/dataset_entrenamiento_homologacion.parquet'\n",
    "    RUTA_RESULTADOS = './resultados/'\n",
    "    \n",
    "    # Features según importancia para homologación\n",
    "    FEATURES_CRITICAS = [\n",
    "        'ATC_label',\n",
    "        'VÍA ADMINISTRACIÓN_label', \n",
    "        'PRINCIPIO ACTIVO_label'\n",
    "    ]\n",
    "    \n",
    "    FEATURES_IMPORTANTES = [\n",
    "        'FORMA FARMACÉUTICA_label',\n",
    "        'CANTIDAD_log',\n",
    "        'CANTIDAD_CUM_log',\n",
    "        'RATIO_CANTIDAD',\n",
    "        'CANTIDAD_bin',\n",
    "        'UNIDAD MEDIDA_label'\n",
    "    ]\n",
    "    \n",
    "    FEATURES_PROBABILIDAD = [\n",
    "        'ATC_prob_validos',\n",
    "        'VÍA ADMINISTRACIÓN_prob_validos',\n",
    "        'PRINCIPIO ACTIVO_prob_validos',\n",
    "        'score_prob_critica'\n",
    "    ]\n",
    "    \n",
    "    # Pesos jerárquicos para homologación\n",
    "    PESOS_JERARQUICOS = {\n",
    "        'ATC': 0.40,\n",
    "        'VIA_ADMINISTRACION': 0.30,\n",
    "        'FORMA_FARMACEUTICA': 0.20,\n",
    "        'CANTIDAD_SIMILITUD': 0.10\n",
    "    }\n",
    "    \n",
    "    # Algoritmos a evaluar con PyCaret\n",
    "    ALGORITMOS_PYCARET = [\n",
    "        'kmeans',      # K-Means\n",
    "        'ap',          # Affinity Propagation\n",
    "        'meanshift',   # Mean Shift\n",
    "        'sc',          # Spectral Clustering\n",
    "        'hclust',      # Hierarchical Clustering\n",
    "        'dbscan',      # DBSCAN\n",
    "        'optics',      # OPTICS\n",
    "        'birch',       # BIRCH\n",
    "        'kmodes'       # K-Modes (para datos categóricos)\n",
    "    ]\n",
    "    \n",
    "    # Configuración de muestreo para datasets grandes\n",
    "    MUESTRA_EVALUACION = 50000  # Para evaluación inicial\n",
    "    MUESTRA_ENTRENAMIENTO = 10000  # Para entrenamiento de modelos\n",
    "    \n",
    "    # Configuración de validación\n",
    "    RANDOM_STATE = 42\n",
    "    N_JOBS = -1  # Usar todos los cores disponibles\n",
    "\n",
    "config = ConfiguracionClustering()\n",
    "logger.info(\"✅ Configuración inicializada\")\n"
   ]
  },
  {
   "cell_type": "markdown",
   "id": "4ce7bf19",
   "metadata": {},
   "source": [
    "## **PASO 3: Carga y Exploración Inicial de Datos**\n",
    "\n",
    "### **Proceso de Carga y Validación**\n",
    "\n",
    "Este paso implementa un **sistema robusto** de carga y exploración inicial:\n",
    "\n",
    "### **Función `cargar_datos()`**\n",
    "- **Carga segura** desde archivo Parquet\n",
    "- **Manejo de errores** con logging detallado\n",
    "- **Validación** de estructura y contenido\n",
    "\n",
    "### **Función `explorar_datos_clustering()`**\n",
    "\n",
    "**Análisis automático que incluye:**\n",
    "\n",
    "1. **Estadísticas Básicas**:\n",
    "   - Total de registros en el dataset\n",
    "   - Medicamentos válidos vs. inválidos\n",
    "   - Porcentaje de completitud\n",
    "\n",
    "2. **Verificación de Features**:\n",
    "   - Disponibilidad de features críticas\n",
    "   - Disponibilidad de features importantes\n",
    "   - Disponibilidad de features de probabilidad\n",
    "\n",
    "3. **Análisis de Combinaciones**:\n",
    "   - Combinaciones únicas ATC+VÍA\n",
    "   - Diversidad de medicamentos\n",
    "   - Complejidad del clustering\n",
    "\n",
    "### **Output del Análisis**\n",
    "- **Resumen estructurado** con métricas clave\n",
    "- **Logging informativo** para seguimiento\n",
    "- **Validación** de calidad de datos para clustering\n",
    "\n",
    "### **Validaciones Críticas**\n",
    "- Verificar que existan medicamentos válidos\n",
    "- Confirmar disponibilidad de features mínimas\n",
    "- Evaluar diversidad suficiente para clustering\n",
    "\n",
    "---"
   ]
  },
  {
   "cell_type": "code",
   "execution_count": 4,
   "id": "bf09cdc0",
   "metadata": {},
   "outputs": [
    {
     "name": "stderr",
     "output_type": "stream",
     "text": [
      "2025-06-21 15:43:45,749 - INFO - 🔄 Cargando datos desde: ./data/dataset_entrenamiento_homologacion.parquet\n",
      "2025-06-21 15:43:45,871 - INFO - ✅ Datos cargados: 248,635 filas x 31 columnas\n",
      "2025-06-21 15:43:45,874 - INFO - 🔍 Iniciando exploración de datos para clustering\n",
      "2025-06-21 15:43:45,924 - INFO - 📊 Total registros: 248,635\n",
      "2025-06-21 15:43:45,926 - INFO - ✅ Medicamentos válidos: 62,006 (24.9%)\n",
      "2025-06-21 15:43:45,929 - INFO - 🎯 Features críticas disponibles: 3\n",
      "2025-06-21 15:43:45,932 - INFO - 📈 Features importantes disponibles: 6\n"
     ]
    }
   ],
   "source": [
    "# 3. CARGA Y EXPLORACIÓN INICIAL DE DATOS\n",
    "# ====================================================================\n",
    "\n",
    "def cargar_datos(ruta: str) -> pl.DataFrame:\n",
    "    \"\"\"\n",
    "    Carga el dataset de entrenamiento para homologación.\n",
    "    \n",
    "    Args:\n",
    "        ruta (str): Ruta al archivo parquet\n",
    "        \n",
    "    Returns:\n",
    "        pl.DataFrame: Dataset cargado\n",
    "        \n",
    "    Raises:\n",
    "        FileNotFoundError: Si no se encuentra el archivo\n",
    "        Exception: Error general en la carga\n",
    "    \"\"\"\n",
    "    try:\n",
    "        logger.info(f\"🔄 Cargando datos desde: {ruta}\")\n",
    "        df = pl.read_parquet(ruta)\n",
    "        logger.info(f\"✅ Datos cargados: {df.shape[0]:,} filas x {df.shape[1]} columnas\")\n",
    "        return df\n",
    "    except FileNotFoundError:\n",
    "        logger.error(f\"❌ Archivo no encontrado: {ruta}\")\n",
    "        raise\n",
    "    except Exception as e:\n",
    "        logger.error(f\"❌ Error cargando datos: {str(e)}\")\n",
    "        raise\n",
    "\n",
    "def explorar_datos_clustering(df: pl.DataFrame) -> Dict:\n",
    "    \"\"\"\n",
    "    Realiza exploración inicial de datos para clustering.\n",
    "    \n",
    "    Args:\n",
    "        df (pl.DataFrame): Dataset a explorar\n",
    "        \n",
    "    Returns:\n",
    "        Dict: Resumen de exploración\n",
    "    \"\"\"\n",
    "    logger.info(\"🔍 Iniciando exploración de datos para clustering\")\n",
    "    \n",
    "    # Estadísticas básicas\n",
    "    total_registros = df.height\n",
    "    medicamentos_validos = df.filter(pl.col('VALIDO') == 1).height if 'VALIDO' in df.columns else total_registros\n",
    "    \n",
    "    # Verificar disponibilidad de features\n",
    "    features_disponibles = {\n",
    "        'criticas': [f for f in config.FEATURES_CRITICAS if f in df.columns],\n",
    "        'importantes': [f for f in config.FEATURES_IMPORTANTES if f in df.columns],\n",
    "        'probabilidad': [f for f in config.FEATURES_PROBABILIDAD if f in df.columns]\n",
    "    }\n",
    "    \n",
    "    # Análisis de combinaciones críticas\n",
    "    if 'ATC_VIA_combo' in df.columns:\n",
    "        combos_unicos = df.select('ATC_VIA_combo').n_unique()\n",
    "    else:\n",
    "        combos_unicos = \"No disponible\"\n",
    "    \n",
    "    resumen = {\n",
    "        'total_registros': total_registros,\n",
    "        'medicamentos_validos': medicamentos_validos,\n",
    "        'porcentaje_validos': (medicamentos_validos / total_registros) * 100,\n",
    "        'features_disponibles': features_disponibles,\n",
    "        'combos_atc_via_unicos': combos_unicos,\n",
    "        'columnas_totales': df.shape[1]\n",
    "    }\n",
    "    \n",
    "    # Log del resumen\n",
    "    logger.info(f\"📊 Total registros: {total_registros:,}\")\n",
    "    logger.info(f\"✅ Medicamentos válidos: {medicamentos_validos:,} ({resumen['porcentaje_validos']:.1f}%)\")\n",
    "    logger.info(f\"🎯 Features críticas disponibles: {len(features_disponibles['criticas'])}\")\n",
    "    logger.info(f\"📈 Features importantes disponibles: {len(features_disponibles['importantes'])}\")\n",
    "    \n",
    "    return resumen\n",
    "\n",
    "# Cargar datos\n",
    "df_training = cargar_datos(config.RUTA_DATOS)\n",
    "resumen_datos = explorar_datos_clustering(df_training)\n"
   ]
  },
  {
   "cell_type": "markdown",
   "id": "838d3a19",
   "metadata": {},
   "source": [
    "## **PASO 4: Preparación Especializada de Datos para Clustering**\n",
    "\n",
    "### **Diseño de la Clase `PreparadorDatosClustering`**\n",
    "\n",
    "Esta clase implementa un **pipeline especializado** para preparar datos farmacéuticos para clustering:\n",
    "\n",
    "### **Métodos Principales**\n",
    "\n",
    "#### 1. **`filtrar_medicamentos_validos()`**\n",
    "- **Filtrado inteligente** basado en columna 'VALIDO'\n",
    "- **Logging informativo** del proceso de filtrado\n",
    "- **Manejo robusto** si no existe la columna\n",
    "\n",
    "#### 2. **`seleccionar_features_clustering()`**\n",
    "- **Selección jerárquica** de features por importancia\n",
    "- **Verificación de disponibilidad** en el dataset\n",
    "- **Logging detallado** de features seleccionadas\n",
    "- **Priorización**: Críticas → Importantes → Probabilidad\n",
    "\n",
    "#### 3. **`muestrear_datos()`**\n",
    "- **Muestreo inteligente** para datasets grandes\n",
    "- **Preservación de distribución** estadística\n",
    "- **Optimización de rendimiento** para evaluación\n",
    "- **Seed fijo** para reproducibilidad\n",
    "\n",
    "#### 4. **`preparar_para_pycaret()`**\n",
    "- **Conversión Polars → Pandas** (requerido por PyCaret)\n",
    "- **Manejo de valores nulos** con estrategias apropiadas\n",
    "- **Verificación de tipos** de datos\n",
    "- **Logging de transformaciones**\n",
    "\n",
    "### **Proceso de Preparación**\n",
    "\n",
    "1. **Filtrado**: Solo medicamentos válidos\n",
    "2. **Selección**: Features por jerarquía de importancia\n",
    "3. **Muestreo**: Optimización para evaluación\n",
    "4. **Transformación**: Formato compatible con PyCaret\n",
    "\n",
    "### **Outputs Esperados**\n",
    "- Dataset filtrado y optimizado\n",
    "- Features seleccionadas por importancia\n",
    "- Formato compatible con algoritmos de clustering\n",
    "- Logging completo de transformaciones\n",
    "\n",
    "---"
   ]
  },
  {
   "cell_type": "code",
   "execution_count": 5,
   "id": "bfc390b5",
   "metadata": {},
   "outputs": [
    {
     "name": "stderr",
     "output_type": "stream",
     "text": [
      "2025-06-21 15:44:07,990 - INFO - 🔄 Iniciando preparación de datos\n",
      "2025-06-21 15:44:08,000 - INFO - 🎯 Filtrado a medicamentos válidos: 62,006 registros\n",
      "2025-06-21 15:44:08,002 - INFO - ✅ Features seleccionadas para clustering: 13\n",
      "2025-06-21 15:44:08,004 - INFO -    - Críticas: 3\n",
      "2025-06-21 15:44:08,005 - INFO -    - Importantes: 6\n",
      "2025-06-21 15:44:08,006 - INFO -    - Probabilidad: 4\n",
      "2025-06-21 15:44:08,025 - INFO - 📊 Muestra creada: 50,000 de 62,006 registros (80.6%)\n",
      "2025-06-21 15:44:08,027 - INFO - 🔧 Preparando datos para PyCaret\n",
      "2025-06-21 15:44:08,083 - INFO - 📋 Tipos de datos:\n",
      "2025-06-21 15:44:08,085 - INFO -    ATC_label: int64\n",
      "2025-06-21 15:44:08,086 - INFO -    VÍA ADMINISTRACIÓN_label: int64\n",
      "2025-06-21 15:44:08,088 - INFO -    PRINCIPIO ACTIVO_label: int64\n",
      "2025-06-21 15:44:08,089 - INFO -    FORMA FARMACÉUTICA_label: int64\n",
      "2025-06-21 15:44:08,091 - INFO -    CANTIDAD_log: float64\n",
      "2025-06-21 15:44:08,093 - INFO -    CANTIDAD_CUM_log: float64\n",
      "2025-06-21 15:44:08,094 - INFO -    RATIO_CANTIDAD: float64\n",
      "2025-06-21 15:44:08,096 - INFO -    CANTIDAD_bin: int32\n",
      "2025-06-21 15:44:08,099 - INFO -    UNIDAD MEDIDA_label: int64\n",
      "2025-06-21 15:44:08,100 - INFO -    ATC_prob_validos: float64\n",
      "2025-06-21 15:44:08,102 - INFO -    VÍA ADMINISTRACIÓN_prob_validos: float64\n",
      "2025-06-21 15:44:08,103 - INFO -    PRINCIPIO ACTIVO_prob_validos: float64\n",
      "2025-06-21 15:44:08,104 - INFO -    score_prob_critica: float64\n",
      "2025-06-21 15:44:08,106 - INFO - ✅ Preparación completada\n",
      "2025-06-21 15:44:08,106 - INFO - 📊 Dataset final para evaluación: 50,000 filas x 13 columnas\n"
     ]
    }
   ],
   "source": [
    "# 4. PREPARACIÓN DE DATOS PARA CLUSTERING\n",
    "# ====================================================================\n",
    "\n",
    "class PreparadorDatosClustering:\n",
    "    \"\"\"\n",
    "    Clase para preparar datos específicamente para evaluación de clustering\n",
    "    en homologación de medicamentos.\n",
    "    \n",
    "    Esta clase maneja la transformación, scaling y muestreo de datos\n",
    "    considerando las particularidades del dominio farmacéutico.\n",
    "    \"\"\"\n",
    "    \n",
    "    def __init__(self, config: ConfiguracionClustering):\n",
    "        \"\"\"\n",
    "        Inicializa el preparador de datos.\n",
    "        \n",
    "        Args:\n",
    "            config (ConfiguracionClustering): Configuración del clustering\n",
    "        \"\"\"\n",
    "        self.config = config\n",
    "        self.scaler = StandardScaler()\n",
    "        self.label_encoders = {}\n",
    "        self.features_finales = []\n",
    "        \n",
    "    def filtrar_medicamentos_validos(self, df: pl.DataFrame) -> pl.DataFrame:\n",
    "        \"\"\"\n",
    "        Filtra solo medicamentos válidos para clustering.\n",
    "        \n",
    "        Args:\n",
    "            df (pl.DataFrame): Dataset completo\n",
    "            \n",
    "        Returns:\n",
    "            pl.DataFrame: Dataset filtrado con medicamentos válidos\n",
    "        \"\"\"\n",
    "        if 'VALIDO' in df.columns:\n",
    "            df_validos = df.filter(pl.col('VALIDO') == 1)\n",
    "            logger.info(f\"🎯 Filtrado a medicamentos válidos: {df_validos.height:,} registros\")\n",
    "        else:\n",
    "            logger.warning(\"⚠️ Columna 'VALIDO' no encontrada, usando todos los registros\")\n",
    "            df_validos = df\n",
    "            \n",
    "        return df_validos\n",
    "    \n",
    "    def seleccionar_features_clustering(self, df: pl.DataFrame) -> List[str]:\n",
    "        \"\"\"\n",
    "        Selecciona las features óptimas para clustering.\n",
    "        \n",
    "        Args:\n",
    "            df (pl.DataFrame): Dataset de entrada\n",
    "            \n",
    "        Returns:\n",
    "            List[str]: Lista de features seleccionadas\n",
    "        \"\"\"\n",
    "        # Verificar disponibilidad de features\n",
    "        features_criticas_disp = [f for f in self.config.FEATURES_CRITICAS if f in df.columns]\n",
    "        features_importantes_disp = [f for f in self.config.FEATURES_IMPORTANTES if f in df.columns]\n",
    "        features_prob_disp = [f for f in self.config.FEATURES_PROBABILIDAD if f in df.columns]\n",
    "        \n",
    "        # Combinar features disponibles\n",
    "        features_seleccionadas = features_criticas_disp + features_importantes_disp + features_prob_disp\n",
    "        \n",
    "        logger.info(f\"✅ Features seleccionadas para clustering: {len(features_seleccionadas)}\")\n",
    "        logger.info(f\"   - Críticas: {len(features_criticas_disp)}\")\n",
    "        logger.info(f\"   - Importantes: {len(features_importantes_disp)}\")\n",
    "        logger.info(f\"   - Probabilidad: {len(features_prob_disp)}\")\n",
    "        \n",
    "        self.features_finales = features_seleccionadas\n",
    "        return features_seleccionadas\n",
    "    \n",
    "    def muestrear_datos(self, df: pl.DataFrame, tamaño_muestra: int) -> pl.DataFrame:\n",
    "        \"\"\"\n",
    "        Realiza muestreo estratificado para evaluación.\n",
    "        \n",
    "        Args:\n",
    "            df (pl.DataFrame): Dataset completo\n",
    "            tamaño_muestra (int): Tamaño de la muestra deseada\n",
    "            \n",
    "        Returns:\n",
    "            pl.DataFrame: Muestra estratificada\n",
    "        \"\"\"\n",
    "        if df.height <= tamaño_muestra:\n",
    "            logger.info(f\"📊 Dataset pequeño, usando todos los {df.height:,} registros\")\n",
    "            return df\n",
    "        \n",
    "        # Muestreo aleatorio simple (en producción podríamos usar estratificado)\n",
    "        muestra = df.sample(n=tamaño_muestra, seed=self.config.RANDOM_STATE)\n",
    "        logger.info(f\"📊 Muestra creada: {muestra.height:,} de {df.height:,} registros ({(muestra.height/df.height)*100:.1f}%)\")\n",
    "        \n",
    "        return muestra\n",
    "    \n",
    "    def preparar_para_pycaret(self, df: pl.DataFrame, features: List[str]) -> pd.DataFrame:\n",
    "        \"\"\"\n",
    "        Prepara datos específicamente para PyCaret clustering.\n",
    "        \n",
    "        Args:\n",
    "            df (pl.DataFrame): Dataset de entrada\n",
    "            features (List[str]): Features a incluir\n",
    "            \n",
    "        Returns:\n",
    "            pd.DataFrame: Dataset preparado para PyCaret\n",
    "        \"\"\"\n",
    "        logger.info(\"🔧 Preparando datos para PyCaret\")\n",
    "        \n",
    "        # Convertir a pandas (requerido por PyCaret)\n",
    "        df_pandas = df.select(features).to_pandas()\n",
    "        \n",
    "        # Manejar valores nulos\n",
    "        df_pandas = df_pandas.fillna(df_pandas.median() if df_pandas.select_dtypes(include=[np.number]).columns.any() else df_pandas.mode().iloc[0])\n",
    "        \n",
    "        # Verificar tipos de datos\n",
    "        logger.info(f\"📋 Tipos de datos:\")\n",
    "        for col in df_pandas.columns:\n",
    "            dtype = df_pandas[col].dtype\n",
    "            logger.info(f\"   {col}: {dtype}\")\n",
    "        \n",
    "        return df_pandas\n",
    "\n",
    "# Inicializar preparador\n",
    "preparador = PreparadorDatosClustering(config)\n",
    "\n",
    "# Preparar datos\n",
    "logger.info(\"🔄 Iniciando preparación de datos\")\n",
    "df_validos = preparador.filtrar_medicamentos_validos(df_training)\n",
    "features_clustering = preparador.seleccionar_features_clustering(df_validos)\n",
    "\n",
    "# Crear muestra para evaluación\n",
    "df_muestra = preparador.muestrear_datos(df_validos, config.MUESTRA_EVALUACION)\n",
    "df_pycaret = preparador.preparar_para_pycaret(df_muestra, features_clustering)\n",
    "\n",
    "logger.info(f\"✅ Preparación completada\")\n",
    "logger.info(f\"📊 Dataset final para evaluación: {df_pycaret.shape[0]:,} filas x {df_pycaret.shape[1]} columnas\")\n"
   ]
  },
  {
   "cell_type": "markdown",
   "id": "90dcf9d0",
   "metadata": {},
   "source": [
    "## **PASO 5: Evaluación Automatizada con PyCaret**\n",
    "\n",
    "### **Diseño de la Clase `EvaluadorPyCaret`**\n",
    "\n",
    "Esta clase implementa una **evaluación sistemática** de múltiples algoritmos de clustering usando PyCaret:\n",
    "\n",
    "### **Arquitectura del Evaluador**\n",
    "\n",
    "#### 1. **`configurar_experimento()`**\n",
    "- **Setup automático** del entorno PyCaret\n",
    "- **Configuración optimizada** para datos farmacéuticos:\n",
    "  - `transformation=True`: Aplicar transformaciones\n",
    "  - `normalize=True`: Normalización automática\n",
    "  - `pca=False`: Sin reducción dimensional inicial\n",
    "- **Session ID fijo** para reproducibilidad\n",
    "\n",
    "#### 2. **`evaluar_modelos()`**\n",
    "- **Evaluación sistemática** de TODOS los algoritmos configurados\n",
    "- **Manejo robusto de errores** por algoritmo\n",
    "- **Creación y asignación** de clusters\n",
    "- **Evaluación automática** con métricas estándar\n",
    "- **Almacenamiento estructurado** de resultados\n",
    "\n",
    "#### 3. **`entrenar_mejor_modelo()`**\n",
    "- **Selección automática** del mejor algoritmo\n",
    "- **Entrenamiento final** con parámetros óptimos\n",
    "- **Fallback seguro** a K-Means si hay errores\n",
    "\n",
    "### **Algoritmos Evaluados**\n",
    "\n",
    "1. **K-Means**: Clustering por centroides\n",
    "2. **Affinity Propagation**: Clustering por ejemplares\n",
    "3. **Mean Shift**: Clustering por cambio de media\n",
    "4. **Spectral Clustering**: Clustering espectral\n",
    "5. **Hierarchical Clustering**: Clustering jerárquico\n",
    "6. **DBSCAN**: Clustering basado en densidad\n",
    "7. **OPTICS**: Extensión de DBSCAN\n",
    "8. **BIRCH**: Clustering incremental\n",
    "9. **K-Modes**: Para datos categóricos\n",
    "\n",
    "### **Métricas de Evaluación**\n",
    "- **Silhouette Score**: Cohesión y separación\n",
    "- **Calinski-Harabasz**: Ratio between/within cluster variance\n",
    "- **Davies-Bouldin**: Dispersión promedio de clusters\n",
    "\n",
    "### **Proceso de Ejecución**\n",
    "1. **Configuración** del experimento PyCaret\n",
    "2. **Evaluación iterativa** de cada algoritmo\n",
    "3. **Comparación automática** de resultados\n",
    "4. **Selección** del mejor modelo\n",
    "\n",
    "---"
   ]
  },
  {
   "cell_type": "code",
   "execution_count": 10,
   "id": "be2e63ff",
   "metadata": {},
   "outputs": [
    {
     "name": "stderr",
     "output_type": "stream",
     "text": [
      "2025-06-21 15:48:40,903 - INFO - 🚀 INICIANDO EVALUACIÓN CON PYCARET\n",
      "2025-06-21 15:48:40,905 - INFO - 🚀 Configurando experimento PyCaret\n"
     ]
    },
    {
     "name": "stdout",
     "output_type": "stream",
     "text": [
      "============================================================\n"
     ]
    },
    {
     "data": {
      "text/html": [
       "<style type=\"text/css\">\n",
       "#T_a7809_row4_col1, #T_a7809_row8_col1, #T_a7809_row10_col1 {\n",
       "  background-color: lightgreen;\n",
       "}\n",
       "</style>\n",
       "<table id=\"T_a7809\">\n",
       "  <thead>\n",
       "    <tr>\n",
       "      <th class=\"blank level0\" >&nbsp;</th>\n",
       "      <th id=\"T_a7809_level0_col0\" class=\"col_heading level0 col0\" >Description</th>\n",
       "      <th id=\"T_a7809_level0_col1\" class=\"col_heading level0 col1\" >Value</th>\n",
       "    </tr>\n",
       "  </thead>\n",
       "  <tbody>\n",
       "    <tr>\n",
       "      <th id=\"T_a7809_level0_row0\" class=\"row_heading level0 row0\" >0</th>\n",
       "      <td id=\"T_a7809_row0_col0\" class=\"data row0 col0\" >Session id</td>\n",
       "      <td id=\"T_a7809_row0_col1\" class=\"data row0 col1\" >42</td>\n",
       "    </tr>\n",
       "    <tr>\n",
       "      <th id=\"T_a7809_level0_row1\" class=\"row_heading level0 row1\" >1</th>\n",
       "      <td id=\"T_a7809_row1_col0\" class=\"data row1 col0\" >Original data shape</td>\n",
       "      <td id=\"T_a7809_row1_col1\" class=\"data row1 col1\" >(50000, 13)</td>\n",
       "    </tr>\n",
       "    <tr>\n",
       "      <th id=\"T_a7809_level0_row2\" class=\"row_heading level0 row2\" >2</th>\n",
       "      <td id=\"T_a7809_row2_col0\" class=\"data row2 col0\" >Transformed data shape</td>\n",
       "      <td id=\"T_a7809_row2_col1\" class=\"data row2 col1\" >(50000, 13)</td>\n",
       "    </tr>\n",
       "    <tr>\n",
       "      <th id=\"T_a7809_level0_row3\" class=\"row_heading level0 row3\" >3</th>\n",
       "      <td id=\"T_a7809_row3_col0\" class=\"data row3 col0\" >Numeric features</td>\n",
       "      <td id=\"T_a7809_row3_col1\" class=\"data row3 col1\" >13</td>\n",
       "    </tr>\n",
       "    <tr>\n",
       "      <th id=\"T_a7809_level0_row4\" class=\"row_heading level0 row4\" >4</th>\n",
       "      <td id=\"T_a7809_row4_col0\" class=\"data row4 col0\" >Preprocess</td>\n",
       "      <td id=\"T_a7809_row4_col1\" class=\"data row4 col1\" >True</td>\n",
       "    </tr>\n",
       "    <tr>\n",
       "      <th id=\"T_a7809_level0_row5\" class=\"row_heading level0 row5\" >5</th>\n",
       "      <td id=\"T_a7809_row5_col0\" class=\"data row5 col0\" >Imputation type</td>\n",
       "      <td id=\"T_a7809_row5_col1\" class=\"data row5 col1\" >simple</td>\n",
       "    </tr>\n",
       "    <tr>\n",
       "      <th id=\"T_a7809_level0_row6\" class=\"row_heading level0 row6\" >6</th>\n",
       "      <td id=\"T_a7809_row6_col0\" class=\"data row6 col0\" >Numeric imputation</td>\n",
       "      <td id=\"T_a7809_row6_col1\" class=\"data row6 col1\" >mean</td>\n",
       "    </tr>\n",
       "    <tr>\n",
       "      <th id=\"T_a7809_level0_row7\" class=\"row_heading level0 row7\" >7</th>\n",
       "      <td id=\"T_a7809_row7_col0\" class=\"data row7 col0\" >Categorical imputation</td>\n",
       "      <td id=\"T_a7809_row7_col1\" class=\"data row7 col1\" >mode</td>\n",
       "    </tr>\n",
       "    <tr>\n",
       "      <th id=\"T_a7809_level0_row8\" class=\"row_heading level0 row8\" >8</th>\n",
       "      <td id=\"T_a7809_row8_col0\" class=\"data row8 col0\" >Transformation</td>\n",
       "      <td id=\"T_a7809_row8_col1\" class=\"data row8 col1\" >True</td>\n",
       "    </tr>\n",
       "    <tr>\n",
       "      <th id=\"T_a7809_level0_row9\" class=\"row_heading level0 row9\" >9</th>\n",
       "      <td id=\"T_a7809_row9_col0\" class=\"data row9 col0\" >Transformation method</td>\n",
       "      <td id=\"T_a7809_row9_col1\" class=\"data row9 col1\" >yeo-johnson</td>\n",
       "    </tr>\n",
       "    <tr>\n",
       "      <th id=\"T_a7809_level0_row10\" class=\"row_heading level0 row10\" >10</th>\n",
       "      <td id=\"T_a7809_row10_col0\" class=\"data row10 col0\" >Normalize</td>\n",
       "      <td id=\"T_a7809_row10_col1\" class=\"data row10 col1\" >True</td>\n",
       "    </tr>\n",
       "    <tr>\n",
       "      <th id=\"T_a7809_level0_row11\" class=\"row_heading level0 row11\" >11</th>\n",
       "      <td id=\"T_a7809_row11_col0\" class=\"data row11 col0\" >Normalize method</td>\n",
       "      <td id=\"T_a7809_row11_col1\" class=\"data row11 col1\" >zscore</td>\n",
       "    </tr>\n",
       "    <tr>\n",
       "      <th id=\"T_a7809_level0_row12\" class=\"row_heading level0 row12\" >12</th>\n",
       "      <td id=\"T_a7809_row12_col0\" class=\"data row12 col0\" >CPU Jobs</td>\n",
       "      <td id=\"T_a7809_row12_col1\" class=\"data row12 col1\" >-1</td>\n",
       "    </tr>\n",
       "    <tr>\n",
       "      <th id=\"T_a7809_level0_row13\" class=\"row_heading level0 row13\" >13</th>\n",
       "      <td id=\"T_a7809_row13_col0\" class=\"data row13 col0\" >Use GPU</td>\n",
       "      <td id=\"T_a7809_row13_col1\" class=\"data row13 col1\" >False</td>\n",
       "    </tr>\n",
       "    <tr>\n",
       "      <th id=\"T_a7809_level0_row14\" class=\"row_heading level0 row14\" >14</th>\n",
       "      <td id=\"T_a7809_row14_col0\" class=\"data row14 col0\" >Log Experiment</td>\n",
       "      <td id=\"T_a7809_row14_col1\" class=\"data row14 col1\" >False</td>\n",
       "    </tr>\n",
       "    <tr>\n",
       "      <th id=\"T_a7809_level0_row15\" class=\"row_heading level0 row15\" >15</th>\n",
       "      <td id=\"T_a7809_row15_col0\" class=\"data row15 col0\" >Experiment Name</td>\n",
       "      <td id=\"T_a7809_row15_col1\" class=\"data row15 col1\" >cluster-default-name</td>\n",
       "    </tr>\n",
       "    <tr>\n",
       "      <th id=\"T_a7809_level0_row16\" class=\"row_heading level0 row16\" >16</th>\n",
       "      <td id=\"T_a7809_row16_col0\" class=\"data row16 col0\" >USI</td>\n",
       "      <td id=\"T_a7809_row16_col1\" class=\"data row16 col1\" >1c32</td>\n",
       "    </tr>\n",
       "  </tbody>\n",
       "</table>\n"
      ],
      "text/plain": [
       "<pandas.io.formats.style.Styler at 0x1f78836bfa0>"
      ]
     },
     "metadata": {},
     "output_type": "display_data"
    },
    {
     "name": "stderr",
     "output_type": "stream",
     "text": [
      "2025-06-21 15:48:41,416 - INFO - ✅ Experimento PyCaret configurado exitosamente\n",
      "2025-06-21 15:48:41,419 - INFO - 🔍 Evaluando modelos de clustering con PyCaret\n",
      "2025-06-21 15:48:41,423 - INFO - 🔧 Creando modelo: kmeans\n"
     ]
    },
    {
     "data": {
      "text/html": [],
      "text/plain": [
       "<IPython.core.display.HTML object>"
      ]
     },
     "metadata": {},
     "output_type": "display_data"
    },
    {
     "data": {
      "text/html": [
       "<style type=\"text/css\">\n",
       "</style>\n",
       "<table id=\"T_6d5a9\">\n",
       "  <thead>\n",
       "    <tr>\n",
       "      <th class=\"blank level0\" >&nbsp;</th>\n",
       "      <th id=\"T_6d5a9_level0_col0\" class=\"col_heading level0 col0\" >Silhouette</th>\n",
       "      <th id=\"T_6d5a9_level0_col1\" class=\"col_heading level0 col1\" >Calinski-Harabasz</th>\n",
       "      <th id=\"T_6d5a9_level0_col2\" class=\"col_heading level0 col2\" >Davies-Bouldin</th>\n",
       "      <th id=\"T_6d5a9_level0_col3\" class=\"col_heading level0 col3\" >Homogeneity</th>\n",
       "      <th id=\"T_6d5a9_level0_col4\" class=\"col_heading level0 col4\" >Rand Index</th>\n",
       "      <th id=\"T_6d5a9_level0_col5\" class=\"col_heading level0 col5\" >Completeness</th>\n",
       "    </tr>\n",
       "  </thead>\n",
       "  <tbody>\n",
       "    <tr>\n",
       "      <th id=\"T_6d5a9_level0_row0\" class=\"row_heading level0 row0\" >0</th>\n",
       "      <td id=\"T_6d5a9_row0_col0\" class=\"data row0 col0\" >0.1745</td>\n",
       "      <td id=\"T_6d5a9_row0_col1\" class=\"data row0 col1\" >8152.9503</td>\n",
       "      <td id=\"T_6d5a9_row0_col2\" class=\"data row0 col2\" >1.9949</td>\n",
       "      <td id=\"T_6d5a9_row0_col3\" class=\"data row0 col3\" >0</td>\n",
       "      <td id=\"T_6d5a9_row0_col4\" class=\"data row0 col4\" >0</td>\n",
       "      <td id=\"T_6d5a9_row0_col5\" class=\"data row0 col5\" >0</td>\n",
       "    </tr>\n",
       "  </tbody>\n",
       "</table>\n"
      ],
      "text/plain": [
       "<pandas.io.formats.style.Styler at 0x1f7883695a0>"
      ]
     },
     "metadata": {},
     "output_type": "display_data"
    },
    {
     "data": {
      "text/html": [],
      "text/plain": [
       "<IPython.core.display.HTML object>"
      ]
     },
     "metadata": {},
     "output_type": "display_data"
    },
    {
     "data": {
      "application/vnd.jupyter.widget-view+json": {
       "model_id": "fe8f6002079e49b995edc3f43a513326",
       "version_major": 2,
       "version_minor": 0
      },
      "text/plain": [
       "interactive(children=(ToggleButtons(description='Plot Type:', icons=('',), options=(('Pipeline Plot', 'pipelin…"
      ]
     },
     "metadata": {},
     "output_type": "display_data"
    },
    {
     "name": "stderr",
     "output_type": "stream",
     "text": [
      "2025-06-21 15:49:24,704 - INFO - ✅ Modelo kmeans evaluado exitosamente\n",
      "2025-06-21 15:49:24,705 - INFO - 🔧 Creando modelo: ap\n"
     ]
    },
    {
     "data": {
      "application/vnd.microsoft.datawrangler.viewer.v0+json": {
       "columns": [
        {
         "name": "index",
         "rawType": "object",
         "type": "string"
        },
        {
         "name": " ",
         "rawType": "object",
         "type": "string"
        },
        {
         "name": "  ",
         "rawType": "object",
         "type": "string"
        }
       ],
       "ref": "5ec57bf5-c4cc-49bc-9383-15cfb70b079e",
       "rows": [
        [
         "Initiated",
         ". . . . . . . . . . . . . . . . . .",
         "15:49:24"
        ],
        [
         "Status",
         ". . . . . . . . . . . . . . . . . .",
         "Fitting 4 Clusters"
        ],
        [
         "Estimator",
         ". . . . . . . . . . . . . . . . . .",
         "Affinity Propagation"
        ]
       ],
       "shape": {
        "columns": 2,
        "rows": 3
       }
      },
      "text/html": [
       "<div>\n",
       "<style scoped>\n",
       "    .dataframe tbody tr th:only-of-type {\n",
       "        vertical-align: middle;\n",
       "    }\n",
       "\n",
       "    .dataframe tbody tr th {\n",
       "        vertical-align: top;\n",
       "    }\n",
       "\n",
       "    .dataframe thead th {\n",
       "        text-align: right;\n",
       "    }\n",
       "</style>\n",
       "<table border=\"1\" class=\"dataframe\">\n",
       "  <thead>\n",
       "    <tr style=\"text-align: right;\">\n",
       "      <th></th>\n",
       "      <th></th>\n",
       "      <th></th>\n",
       "    </tr>\n",
       "    <tr>\n",
       "      <th></th>\n",
       "      <th></th>\n",
       "      <th></th>\n",
       "    </tr>\n",
       "  </thead>\n",
       "  <tbody>\n",
       "    <tr>\n",
       "      <th>Initiated</th>\n",
       "      <td>. . . . . . . . . . . . . . . . . .</td>\n",
       "      <td>15:49:24</td>\n",
       "    </tr>\n",
       "    <tr>\n",
       "      <th>Status</th>\n",
       "      <td>. . . . . . . . . . . . . . . . . .</td>\n",
       "      <td>Fitting 4 Clusters</td>\n",
       "    </tr>\n",
       "    <tr>\n",
       "      <th>Estimator</th>\n",
       "      <td>. . . . . . . . . . . . . . . . . .</td>\n",
       "      <td>Affinity Propagation</td>\n",
       "    </tr>\n",
       "  </tbody>\n",
       "</table>\n",
       "</div>"
      ],
      "text/plain": [
       "                                                                    \n",
       "                                                                    \n",
       "Initiated  . . . . . . . . . . . . . . . . . .              15:49:24\n",
       "Status     . . . . . . . . . . . . . . . . . .    Fitting 4 Clusters\n",
       "Estimator  . . . . . . . . . . . . . . . . . .  Affinity Propagation"
      ]
     },
     "metadata": {},
     "output_type": "display_data"
    },
    {
     "data": {
      "text/html": [],
      "text/plain": [
       "<IPython.core.display.HTML object>"
      ]
     },
     "metadata": {},
     "output_type": "display_data"
    },
    {
     "data": {
      "text/html": [],
      "text/plain": [
       "<IPython.core.display.HTML object>"
      ]
     },
     "metadata": {},
     "output_type": "display_data"
    },
    {
     "name": "stderr",
     "output_type": "stream",
     "text": [
      "2025-06-21 15:56:31,522 - WARNING - ⚠️ Error evaluando modelo ap: Unable to allocate 18.6 GiB for an array with shape (50000, 50000) and data type float64\n",
      "2025-06-21 15:56:31,684 - INFO - 🔧 Creando modelo: meanshift\n"
     ]
    },
    {
     "data": {
      "application/vnd.microsoft.datawrangler.viewer.v0+json": {
       "columns": [
        {
         "name": "index",
         "rawType": "object",
         "type": "string"
        },
        {
         "name": " ",
         "rawType": "object",
         "type": "string"
        },
        {
         "name": "  ",
         "rawType": "object",
         "type": "string"
        }
       ],
       "ref": "504b2b09-c43e-47c9-9bf8-37ef65788e84",
       "rows": [
        [
         "Initiated",
         ". . . . . . . . . . . . . . . . . .",
         "15:56:31"
        ],
        [
         "Status",
         ". . . . . . . . . . . . . . . . . .",
         "Fitting 4 Clusters"
        ],
        [
         "Estimator",
         ". . . . . . . . . . . . . . . . . .",
         "Mean Shift Clustering"
        ]
       ],
       "shape": {
        "columns": 2,
        "rows": 3
       }
      },
      "text/html": [
       "<div>\n",
       "<style scoped>\n",
       "    .dataframe tbody tr th:only-of-type {\n",
       "        vertical-align: middle;\n",
       "    }\n",
       "\n",
       "    .dataframe tbody tr th {\n",
       "        vertical-align: top;\n",
       "    }\n",
       "\n",
       "    .dataframe thead th {\n",
       "        text-align: right;\n",
       "    }\n",
       "</style>\n",
       "<table border=\"1\" class=\"dataframe\">\n",
       "  <thead>\n",
       "    <tr style=\"text-align: right;\">\n",
       "      <th></th>\n",
       "      <th></th>\n",
       "      <th></th>\n",
       "    </tr>\n",
       "    <tr>\n",
       "      <th></th>\n",
       "      <th></th>\n",
       "      <th></th>\n",
       "    </tr>\n",
       "  </thead>\n",
       "  <tbody>\n",
       "    <tr>\n",
       "      <th>Initiated</th>\n",
       "      <td>. . . . . . . . . . . . . . . . . .</td>\n",
       "      <td>15:56:31</td>\n",
       "    </tr>\n",
       "    <tr>\n",
       "      <th>Status</th>\n",
       "      <td>. . . . . . . . . . . . . . . . . .</td>\n",
       "      <td>Fitting 4 Clusters</td>\n",
       "    </tr>\n",
       "    <tr>\n",
       "      <th>Estimator</th>\n",
       "      <td>. . . . . . . . . . . . . . . . . .</td>\n",
       "      <td>Mean Shift Clustering</td>\n",
       "    </tr>\n",
       "  </tbody>\n",
       "</table>\n",
       "</div>"
      ],
      "text/plain": [
       "                                                                     \n",
       "                                                                     \n",
       "Initiated  . . . . . . . . . . . . . . . . . .               15:56:31\n",
       "Status     . . . . . . . . . . . . . . . . . .     Fitting 4 Clusters\n",
       "Estimator  . . . . . . . . . . . . . . . . . .  Mean Shift Clustering"
      ]
     },
     "metadata": {},
     "output_type": "display_data"
    },
    {
     "data": {
      "text/html": [],
      "text/plain": [
       "<IPython.core.display.HTML object>"
      ]
     },
     "metadata": {},
     "output_type": "display_data"
    },
    {
     "data": {
      "text/html": [],
      "text/plain": [
       "<IPython.core.display.HTML object>"
      ]
     },
     "metadata": {},
     "output_type": "display_data"
    },
    {
     "name": "stderr",
     "output_type": "stream",
     "text": [
      "2025-06-21 16:09:58,669 - WARNING - ⚠️ Error evaluando modelo meanshift: Unable to allocate 3.53 MiB for an array with shape (35595, 13) and data type float64\n",
      "2025-06-21 16:09:58,680 - INFO - 🔧 Creando modelo: sc\n"
     ]
    },
    {
     "data": {
      "application/vnd.microsoft.datawrangler.viewer.v0+json": {
       "columns": [
        {
         "name": "index",
         "rawType": "object",
         "type": "string"
        },
        {
         "name": " ",
         "rawType": "object",
         "type": "string"
        },
        {
         "name": "  ",
         "rawType": "object",
         "type": "string"
        }
       ],
       "ref": "feff1294-a487-4da9-b537-83eaaf170a9b",
       "rows": [
        [
         "Initiated",
         ". . . . . . . . . . . . . . . . . .",
         "16:09:58"
        ],
        [
         "Status",
         ". . . . . . . . . . . . . . . . . .",
         "Fitting 4 Clusters"
        ],
        [
         "Estimator",
         ". . . . . . . . . . . . . . . . . .",
         "Spectral Clustering"
        ]
       ],
       "shape": {
        "columns": 2,
        "rows": 3
       }
      },
      "text/html": [
       "<div>\n",
       "<style scoped>\n",
       "    .dataframe tbody tr th:only-of-type {\n",
       "        vertical-align: middle;\n",
       "    }\n",
       "\n",
       "    .dataframe tbody tr th {\n",
       "        vertical-align: top;\n",
       "    }\n",
       "\n",
       "    .dataframe thead th {\n",
       "        text-align: right;\n",
       "    }\n",
       "</style>\n",
       "<table border=\"1\" class=\"dataframe\">\n",
       "  <thead>\n",
       "    <tr style=\"text-align: right;\">\n",
       "      <th></th>\n",
       "      <th></th>\n",
       "      <th></th>\n",
       "    </tr>\n",
       "    <tr>\n",
       "      <th></th>\n",
       "      <th></th>\n",
       "      <th></th>\n",
       "    </tr>\n",
       "  </thead>\n",
       "  <tbody>\n",
       "    <tr>\n",
       "      <th>Initiated</th>\n",
       "      <td>. . . . . . . . . . . . . . . . . .</td>\n",
       "      <td>16:09:58</td>\n",
       "    </tr>\n",
       "    <tr>\n",
       "      <th>Status</th>\n",
       "      <td>. . . . . . . . . . . . . . . . . .</td>\n",
       "      <td>Fitting 4 Clusters</td>\n",
       "    </tr>\n",
       "    <tr>\n",
       "      <th>Estimator</th>\n",
       "      <td>. . . . . . . . . . . . . . . . . .</td>\n",
       "      <td>Spectral Clustering</td>\n",
       "    </tr>\n",
       "  </tbody>\n",
       "</table>\n",
       "</div>"
      ],
      "text/plain": [
       "                                                                   \n",
       "                                                                   \n",
       "Initiated  . . . . . . . . . . . . . . . . . .             16:09:58\n",
       "Status     . . . . . . . . . . . . . . . . . .   Fitting 4 Clusters\n",
       "Estimator  . . . . . . . . . . . . . . . . . .  Spectral Clustering"
      ]
     },
     "metadata": {},
     "output_type": "display_data"
    },
    {
     "data": {
      "text/html": [],
      "text/plain": [
       "<IPython.core.display.HTML object>"
      ]
     },
     "metadata": {},
     "output_type": "display_data"
    },
    {
     "data": {
      "text/html": [],
      "text/plain": [
       "<IPython.core.display.HTML object>"
      ]
     },
     "metadata": {},
     "output_type": "display_data"
    },
    {
     "name": "stderr",
     "output_type": "stream",
     "text": [
      "2025-06-21 16:09:59,842 - WARNING - [FastMemorizedFunc(func=<function _full_transform at 0x000001F786B44AF0>, location=C:\\Users\\ORPHEUX\\AppData\\Local\\Temp\\joblib)]: Exception while loading results for _full_transform(Pipeline(memory=FastMemory(location=C:\\Users\\ORPHEUX\\AppData\\Local\\Temp\\joblib),\n",
      "         steps=[('numerical_imputer',\n",
      "                 TransformerWrapper(include=['ATC_label',\n",
      "                                             'VÍA ADMINISTRACIÓN_label',\n",
      "                                             'PRINCIPIO ACTIVO_label',\n",
      "                                             'FORMA FARMACÉUTICA_label',\n",
      "                                             'CANTIDAD_log', 'CANTIDAD_CUM_log',\n",
      "                                             'RATIO_CANTIDAD', 'CANTIDAD_bin',\n",
      "                                             'UNIDAD MEDIDA_label',\n",
      "                                             'ATC_prob_validos',\n",
      "                                             'VÍA ADMINISTRACIÓN_p...validos',\n",
      "                                             'PRINCIPIO ACTIVO_prob_validos',\n",
      "                                             'score_prob_critica'],\n",
      "                                    transformer=SimpleImputer())),\n",
      "                ('categorical_imputer',\n",
      "                 TransformerWrapper(include=[],\n",
      "                                    transformer=SimpleImputer(strategy='most_frequent'))),\n",
      "                ('transformation',\n",
      "                 TransformerWrapper(transformer=PowerTransformer(standardize=False))),\n",
      "                ('normalize',\n",
      "                 TransformerWrapper(transformer=StandardScaler()))]), \n",
      "       ATC_label  VÍA ADMINISTRACIÓN_label  PRINCIPIO ACTIVO_label  \\\n",
      "0            526                        34                   10623   \n",
      "1            647                        34                   10623   \n",
      "2           1386                        21                   13088   \n",
      "3            136                        34                    6183   \n",
      "4           1782                        34                   20232   \n",
      "...          ...                       ...                     ...   \n",
      "49995        286                        34                   17684   \n",
      "49996       1794                        34                     490   \n",
      "49997         82                        34                    3617   \n",
      "..., \n",
      "None, with_final=True, filter_train_only=False)\n",
      " Traceback (most recent call last):\n",
      "  File \"d:\\Projects\\clase_ia\\AA_CLASE4\\.venv\\lib\\site-packages\\pycaret\\internal\\memory.py\", line 368, in _cached_call\n",
      "    out = self.store_backend.load_item(\n",
      "  File \"d:\\Projects\\clase_ia\\AA_CLASE4\\.venv\\lib\\site-packages\\joblib\\_store_backends.py\", line 176, in load_item\n",
      "    item = numpy_pickle.load(f)\n",
      "  File \"d:\\Projects\\clase_ia\\AA_CLASE4\\.venv\\lib\\site-packages\\joblib\\numpy_pickle.py\", line 648, in load\n",
      "    obj = _unpickle(fobj)\n",
      "  File \"d:\\Projects\\clase_ia\\AA_CLASE4\\.venv\\lib\\site-packages\\joblib\\numpy_pickle.py\", line 577, in _unpickle\n",
      "    obj = unpickler.load()\n",
      "  File \"C:\\Users\\ORPHEUX\\AppData\\Local\\Programs\\Python\\Python310\\lib\\pickle.py\", line 1213, in load\n",
      "    dispatch[key[0]](self)\n",
      "  File \"d:\\Projects\\clase_ia\\AA_CLASE4\\.venv\\lib\\site-packages\\joblib\\numpy_pickle.py\", line 415, in load_build\n",
      "    self.stack.append(array_wrapper.read(self))\n",
      "  File \"d:\\Projects\\clase_ia\\AA_CLASE4\\.venv\\lib\\site-packages\\joblib\\numpy_pickle.py\", line 252, in read\n",
      "    array = self.read_array(unpickler)\n",
      "  File \"d:\\Projects\\clase_ia\\AA_CLASE4\\.venv\\lib\\site-packages\\joblib\\numpy_pickle.py\", line 173, in read_array\n",
      "    array = unpickler.np.empty(count, dtype=self.dtype)\n",
      "numpy.core._exceptions._ArrayMemoryError: Unable to allocate 4.96 MiB for an array with shape (650000,) and data type float64\n",
      "\n",
      "2025-06-21 16:10:01,743 - WARNING - ⚠️ Error evaluando modelo sc: Unable to allocate 4.96 MiB for an array with shape (13, 50000) and data type float64\n",
      "2025-06-21 16:10:01,756 - INFO - 🔧 Creando modelo: hclust\n"
     ]
    },
    {
     "data": {
      "application/vnd.microsoft.datawrangler.viewer.v0+json": {
       "columns": [
        {
         "name": "index",
         "rawType": "object",
         "type": "string"
        },
        {
         "name": " ",
         "rawType": "object",
         "type": "string"
        },
        {
         "name": "  ",
         "rawType": "object",
         "type": "string"
        }
       ],
       "ref": "39c9e659-5aed-4afd-bc34-20dde4c817a8",
       "rows": [
        [
         "Initiated",
         ". . . . . . . . . . . . . . . . . .",
         "16:10:01"
        ],
        [
         "Status",
         ". . . . . . . . . . . . . . . . . .",
         "Fitting 4 Clusters"
        ],
        [
         "Estimator",
         ". . . . . . . . . . . . . . . . . .",
         "Agglomerative Clustering"
        ]
       ],
       "shape": {
        "columns": 2,
        "rows": 3
       }
      },
      "text/html": [
       "<div>\n",
       "<style scoped>\n",
       "    .dataframe tbody tr th:only-of-type {\n",
       "        vertical-align: middle;\n",
       "    }\n",
       "\n",
       "    .dataframe tbody tr th {\n",
       "        vertical-align: top;\n",
       "    }\n",
       "\n",
       "    .dataframe thead th {\n",
       "        text-align: right;\n",
       "    }\n",
       "</style>\n",
       "<table border=\"1\" class=\"dataframe\">\n",
       "  <thead>\n",
       "    <tr style=\"text-align: right;\">\n",
       "      <th></th>\n",
       "      <th></th>\n",
       "      <th></th>\n",
       "    </tr>\n",
       "    <tr>\n",
       "      <th></th>\n",
       "      <th></th>\n",
       "      <th></th>\n",
       "    </tr>\n",
       "  </thead>\n",
       "  <tbody>\n",
       "    <tr>\n",
       "      <th>Initiated</th>\n",
       "      <td>. . . . . . . . . . . . . . . . . .</td>\n",
       "      <td>16:10:01</td>\n",
       "    </tr>\n",
       "    <tr>\n",
       "      <th>Status</th>\n",
       "      <td>. . . . . . . . . . . . . . . . . .</td>\n",
       "      <td>Fitting 4 Clusters</td>\n",
       "    </tr>\n",
       "    <tr>\n",
       "      <th>Estimator</th>\n",
       "      <td>. . . . . . . . . . . . . . . . . .</td>\n",
       "      <td>Agglomerative Clustering</td>\n",
       "    </tr>\n",
       "  </tbody>\n",
       "</table>\n",
       "</div>"
      ],
      "text/plain": [
       "                                                                        \n",
       "                                                                        \n",
       "Initiated  . . . . . . . . . . . . . . . . . .                  16:10:01\n",
       "Status     . . . . . . . . . . . . . . . . . .        Fitting 4 Clusters\n",
       "Estimator  . . . . . . . . . . . . . . . . . .  Agglomerative Clustering"
      ]
     },
     "metadata": {},
     "output_type": "display_data"
    },
    {
     "data": {
      "text/html": [],
      "text/plain": [
       "<IPython.core.display.HTML object>"
      ]
     },
     "metadata": {},
     "output_type": "display_data"
    },
    {
     "data": {
      "text/html": [],
      "text/plain": [
       "<IPython.core.display.HTML object>"
      ]
     },
     "metadata": {},
     "output_type": "display_data"
    },
    {
     "name": "stderr",
     "output_type": "stream",
     "text": [
      "2025-06-21 16:10:03,751 - WARNING - ⚠️ Error evaluando modelo hclust: Unable to allocate 9.31 GiB for an array with shape (1249975000,) and data type float64\n",
      "2025-06-21 16:10:03,757 - INFO - 🔧 Creando modelo: dbscan\n"
     ]
    },
    {
     "data": {
      "application/vnd.microsoft.datawrangler.viewer.v0+json": {
       "columns": [
        {
         "name": "index",
         "rawType": "object",
         "type": "string"
        },
        {
         "name": " ",
         "rawType": "object",
         "type": "string"
        },
        {
         "name": "  ",
         "rawType": "object",
         "type": "string"
        }
       ],
       "ref": "cbdda6ca-df39-4a68-b5fa-00dadbcced26",
       "rows": [
        [
         "Initiated",
         ". . . . . . . . . . . . . . . . . .",
         "16:10:03"
        ],
        [
         "Status",
         ". . . . . . . . . . . . . . . . . .",
         "Fitting 4 Clusters"
        ],
        [
         "Estimator",
         ". . . . . . . . . . . . . . . . . .",
         "Density-Based Spatial Clustering"
        ]
       ],
       "shape": {
        "columns": 2,
        "rows": 3
       }
      },
      "text/html": [
       "<div>\n",
       "<style scoped>\n",
       "    .dataframe tbody tr th:only-of-type {\n",
       "        vertical-align: middle;\n",
       "    }\n",
       "\n",
       "    .dataframe tbody tr th {\n",
       "        vertical-align: top;\n",
       "    }\n",
       "\n",
       "    .dataframe thead th {\n",
       "        text-align: right;\n",
       "    }\n",
       "</style>\n",
       "<table border=\"1\" class=\"dataframe\">\n",
       "  <thead>\n",
       "    <tr style=\"text-align: right;\">\n",
       "      <th></th>\n",
       "      <th></th>\n",
       "      <th></th>\n",
       "    </tr>\n",
       "    <tr>\n",
       "      <th></th>\n",
       "      <th></th>\n",
       "      <th></th>\n",
       "    </tr>\n",
       "  </thead>\n",
       "  <tbody>\n",
       "    <tr>\n",
       "      <th>Initiated</th>\n",
       "      <td>. . . . . . . . . . . . . . . . . .</td>\n",
       "      <td>16:10:03</td>\n",
       "    </tr>\n",
       "    <tr>\n",
       "      <th>Status</th>\n",
       "      <td>. . . . . . . . . . . . . . . . . .</td>\n",
       "      <td>Fitting 4 Clusters</td>\n",
       "    </tr>\n",
       "    <tr>\n",
       "      <th>Estimator</th>\n",
       "      <td>. . . . . . . . . . . . . . . . . .</td>\n",
       "      <td>Density-Based Spatial Clustering</td>\n",
       "    </tr>\n",
       "  </tbody>\n",
       "</table>\n",
       "</div>"
      ],
      "text/plain": [
       "                                                \\\n",
       "                                                 \n",
       "Initiated  . . . . . . . . . . . . . . . . . .   \n",
       "Status     . . . . . . . . . . . . . . . . . .   \n",
       "Estimator  . . . . . . . . . . . . . . . . . .   \n",
       "\n",
       "                                             \n",
       "                                             \n",
       "Initiated                          16:10:03  \n",
       "Status                   Fitting 4 Clusters  \n",
       "Estimator  Density-Based Spatial Clustering  "
      ]
     },
     "metadata": {},
     "output_type": "display_data"
    },
    {
     "data": {
      "text/html": [],
      "text/plain": [
       "<IPython.core.display.HTML object>"
      ]
     },
     "metadata": {},
     "output_type": "display_data"
    },
    {
     "data": {
      "text/html": [],
      "text/plain": [
       "<IPython.core.display.HTML object>"
      ]
     },
     "metadata": {},
     "output_type": "display_data"
    },
    {
     "name": "stderr",
     "output_type": "stream",
     "text": [
      "2025-06-21 16:10:04,849 - WARNING - ⚠️ Error evaluando modelo dbscan: Unable to allocate 4.96 MiB for an array with shape (13, 50000) and data type float64\n",
      "2025-06-21 16:10:04,855 - INFO - 🔧 Creando modelo: optics\n"
     ]
    },
    {
     "data": {
      "text/html": [],
      "text/plain": [
       "<IPython.core.display.HTML object>"
      ]
     },
     "metadata": {},
     "output_type": "display_data"
    },
    {
     "data": {
      "text/html": [
       "<style type=\"text/css\">\n",
       "</style>\n",
       "<table id=\"T_1df27\">\n",
       "  <thead>\n",
       "    <tr>\n",
       "      <th class=\"blank level0\" >&nbsp;</th>\n",
       "      <th id=\"T_1df27_level0_col0\" class=\"col_heading level0 col0\" >Silhouette</th>\n",
       "      <th id=\"T_1df27_level0_col1\" class=\"col_heading level0 col1\" >Calinski-Harabasz</th>\n",
       "      <th id=\"T_1df27_level0_col2\" class=\"col_heading level0 col2\" >Davies-Bouldin</th>\n",
       "      <th id=\"T_1df27_level0_col3\" class=\"col_heading level0 col3\" >Homogeneity</th>\n",
       "      <th id=\"T_1df27_level0_col4\" class=\"col_heading level0 col4\" >Rand Index</th>\n",
       "      <th id=\"T_1df27_level0_col5\" class=\"col_heading level0 col5\" >Completeness</th>\n",
       "    </tr>\n",
       "  </thead>\n",
       "  <tbody>\n",
       "    <tr>\n",
       "      <th id=\"T_1df27_level0_row0\" class=\"row_heading level0 row0\" >0</th>\n",
       "      <td id=\"T_1df27_row0_col0\" class=\"data row0 col0\" >0.1738</td>\n",
       "      <td id=\"T_1df27_row0_col1\" class=\"data row0 col1\" >27.8893</td>\n",
       "      <td id=\"T_1df27_row0_col2\" class=\"data row0 col2\" >1.0804</td>\n",
       "      <td id=\"T_1df27_row0_col3\" class=\"data row0 col3\" >0</td>\n",
       "      <td id=\"T_1df27_row0_col4\" class=\"data row0 col4\" >0</td>\n",
       "      <td id=\"T_1df27_row0_col5\" class=\"data row0 col5\" >0</td>\n",
       "    </tr>\n",
       "  </tbody>\n",
       "</table>\n"
      ],
      "text/plain": [
       "<pandas.io.formats.style.Styler at 0x1f78856df90>"
      ]
     },
     "metadata": {},
     "output_type": "display_data"
    },
    {
     "data": {
      "text/html": [],
      "text/plain": [
       "<IPython.core.display.HTML object>"
      ]
     },
     "metadata": {},
     "output_type": "display_data"
    },
    {
     "data": {
      "application/vnd.jupyter.widget-view+json": {
       "model_id": "5f88e2e81e944be79c4c871d720ad6e5",
       "version_major": 2,
       "version_minor": 0
      },
      "text/plain": [
       "interactive(children=(ToggleButtons(description='Plot Type:', icons=('',), options=(('Pipeline Plot', 'pipelin…"
      ]
     },
     "metadata": {},
     "output_type": "display_data"
    },
    {
     "name": "stderr",
     "output_type": "stream",
     "text": [
      "2025-06-21 16:42:28,129 - INFO - ✅ Modelo optics evaluado exitosamente\n",
      "2025-06-21 16:42:28,130 - INFO - 🔧 Creando modelo: birch\n"
     ]
    },
    {
     "data": {
      "text/html": [],
      "text/plain": [
       "<IPython.core.display.HTML object>"
      ]
     },
     "metadata": {},
     "output_type": "display_data"
    },
    {
     "data": {
      "text/html": [
       "<style type=\"text/css\">\n",
       "</style>\n",
       "<table id=\"T_47c95\">\n",
       "  <thead>\n",
       "    <tr>\n",
       "      <th class=\"blank level0\" >&nbsp;</th>\n",
       "      <th id=\"T_47c95_level0_col0\" class=\"col_heading level0 col0\" >Silhouette</th>\n",
       "      <th id=\"T_47c95_level0_col1\" class=\"col_heading level0 col1\" >Calinski-Harabasz</th>\n",
       "      <th id=\"T_47c95_level0_col2\" class=\"col_heading level0 col2\" >Davies-Bouldin</th>\n",
       "      <th id=\"T_47c95_level0_col3\" class=\"col_heading level0 col3\" >Homogeneity</th>\n",
       "      <th id=\"T_47c95_level0_col4\" class=\"col_heading level0 col4\" >Rand Index</th>\n",
       "      <th id=\"T_47c95_level0_col5\" class=\"col_heading level0 col5\" >Completeness</th>\n",
       "    </tr>\n",
       "  </thead>\n",
       "  <tbody>\n",
       "    <tr>\n",
       "      <th id=\"T_47c95_level0_row0\" class=\"row_heading level0 row0\" >0</th>\n",
       "      <td id=\"T_47c95_row0_col0\" class=\"data row0 col0\" >0.1689</td>\n",
       "      <td id=\"T_47c95_row0_col1\" class=\"data row0 col1\" >7592.5154</td>\n",
       "      <td id=\"T_47c95_row0_col2\" class=\"data row0 col2\" >2.0797</td>\n",
       "      <td id=\"T_47c95_row0_col3\" class=\"data row0 col3\" >0</td>\n",
       "      <td id=\"T_47c95_row0_col4\" class=\"data row0 col4\" >0</td>\n",
       "      <td id=\"T_47c95_row0_col5\" class=\"data row0 col5\" >0</td>\n",
       "    </tr>\n",
       "  </tbody>\n",
       "</table>\n"
      ],
      "text/plain": [
       "<pandas.io.formats.style.Styler at 0x1f79d9c81f0>"
      ]
     },
     "metadata": {},
     "output_type": "display_data"
    },
    {
     "data": {
      "text/html": [],
      "text/plain": [
       "<IPython.core.display.HTML object>"
      ]
     },
     "metadata": {},
     "output_type": "display_data"
    },
    {
     "data": {
      "application/vnd.jupyter.widget-view+json": {
       "model_id": "8bbc172eb5724d11874dd7176ff91e48",
       "version_major": 2,
       "version_minor": 0
      },
      "text/plain": [
       "interactive(children=(ToggleButtons(description='Plot Type:', icons=('',), options=(('Pipeline Plot', 'pipelin…"
      ]
     },
     "metadata": {},
     "output_type": "display_data"
    },
    {
     "name": "stderr",
     "output_type": "stream",
     "text": [
      "2025-06-21 16:43:07,584 - INFO - ✅ Modelo birch evaluado exitosamente\n",
      "2025-06-21 16:43:07,586 - INFO - 🔧 Creando modelo: kmodes\n",
      "2025-06-21 16:43:07,587 - WARNING - ⚠️ Error evaluando modelo kmodes: Estimator kmodes not available. Please see docstring for list of available estimators.\n",
      "2025-06-21 16:43:07,589 - INFO - ✅ Evaluación completada: 3 modelos evaluados\n"
     ]
    },
    {
     "name": "stdout",
     "output_type": "stream",
     "text": [
      "✅ Evaluación PyCaret completada\n",
      "📊 Modelos evaluados: 9\n"
     ]
    },
    {
     "data": {
      "text/plain": [
       "<Figure size 800x550 with 0 Axes>"
      ]
     },
     "metadata": {},
     "output_type": "display_data"
    },
    {
     "data": {
      "image/png": "[encoded data removed]",
      "text/plain": [
       "<Figure size 800x550 with 2 Axes>"
      ]
     },
     "metadata": {},
     "output_type": "display_data"
    },
    {
     "data": {
      "text/plain": [
       "<Figure size 800x550 with 0 Axes>"
      ]
     },
     "metadata": {},
     "output_type": "display_data"
    },
    {
     "data": {
      "text/plain": [
       "<Figure size 800x550 with 0 Axes>"
      ]
     },
     "metadata": {},
     "output_type": "display_data"
    },
    {
     "data": {
      "image/png": "[encoded data removed]",
      "text/plain": [
       "<Figure size 800x550 with 2 Axes>"
      ]
     },
     "metadata": {},
     "output_type": "display_data"
    },
    {
     "data": {
      "image/png": "[encoded data removed]",
      "text/plain": [
       "<Figure size 800x550 with 2 Axes>"
      ]
     },
     "metadata": {},
     "output_type": "display_data"
    }
   ],
   "source": [
    "# 5. EVALUACIÓN CON PYCARET\n",
    "# ====================================================================\n",
    "\n",
    "class EvaluadorPyCaret:\n",
    "    \"\"\"\n",
    "    Evaluador de modelos de clustering usando PyCaret.\n",
    "    \n",
    "    Esta clase encapsula la evaluación sistemática de múltiples algoritmos\n",
    "    de clustering usando la biblioteca PyCaret, optimizada para el dominio\n",
    "    de homologación de medicamentos.\n",
    "    \"\"\"\n",
    "    \n",
    "    def __init__(self, config: ConfiguracionClustering):\n",
    "        \"\"\"\n",
    "        Inicializa el evaluador PyCaret.\n",
    "        \n",
    "        Args:\n",
    "            config (ConfiguracionClustering): Configuración del clustering\n",
    "        \"\"\"\n",
    "        self.config = config\n",
    "        self.experimento = None\n",
    "        self.resultados = {}\n",
    "        \n",
    "    def configurar_experimento(self, df: pd.DataFrame) -> None:\n",
    "        \"\"\"\n",
    "        Configura el experimento de clustering en PyCaret.\n",
    "        \n",
    "        Args:\n",
    "            df (pd.DataFrame): Dataset preparado para clustering\n",
    "        \"\"\"\n",
    "        logger.info(\"🚀 Configurando experimento PyCaret\")\n",
    "        \n",
    "        try:\n",
    "            # Configurar PyCaret clustering\n",
    "            self.experimento = clustering.setup(\n",
    "                data=df,\n",
    "                session_id=self.config.RANDOM_STATE,\n",
    "                ignore_features=None,  # No ignorar features específicas\n",
    "                transformation=True,   # Aplicar transformaciones\n",
    "                normalize=True,        # Normalizar datos\n",
    "                pca=False,            # No usar PCA inicialmente\n",
    "            )\n",
    "            \n",
    "            logger.info(\"✅ Experimento PyCaret configurado exitosamente\")\n",
    "            \n",
    "        except Exception as e:\n",
    "            logger.error(f\"❌ Error configurando experimento PyCaret: {str(e)}\")\n",
    "            raise\n",
    "    \n",
    "    def evaluar_modelos(self) -> pd.DataFrame:\n",
    "        \"\"\"\n",
    "        Evalúa múltiples modelos de clustering.\n",
    "        \n",
    "        Returns:\n",
    "            pd.DataFrame: Tabla comparativa de modelos\n",
    "        \"\"\"\n",
    "        logger.info(\"🔍 Evaluando modelos de clustering con PyCaret\")\n",
    "        \n",
    "        try:\n",
    "            # Crear y evaluar modelos individualmente\n",
    "            resultados_modelos = []\n",
    "            \n",
    "            for algoritmo in self.config.ALGORITMOS_PYCARET:\n",
    "                try:\n",
    "                    logger.info(f\"🔧 Creando modelo: {algoritmo}\")\n",
    "                    modelo = clustering.create_model(algoritmo)\n",
    "                    \n",
    "                    # Asignar clusters y evaluar\n",
    "                    modelo_asignado = clustering.assign_model(modelo)\n",
    "                    \n",
    "                    # Evaluar modelo\n",
    "                    metricas = clustering.evaluate_model(modelo)\n",
    "                    \n",
    "                    # Guardar resultados\n",
    "                    resultado = {\n",
    "                        'Modelo': algoritmo,\n",
    "                        'Objeto_Modelo': modelo,\n",
    "                        'Datos_Asignados': modelo_asignado\n",
    "                    }\n",
    "                    \n",
    "                    resultados_modelos.append(resultado)\n",
    "                    logger.info(f\"✅ Modelo {algoritmo} evaluado exitosamente\")\n",
    "                    \n",
    "                except Exception as e:\n",
    "                    logger.warning(f\"⚠️ Error evaluando modelo {algoritmo}: {str(e)}\")\n",
    "                    continue\n",
    "            \n",
    "            # Crear DataFrame de resultados\n",
    "            import pandas as pd\n",
    "            resultados_comparacion = pd.DataFrame(resultados_modelos)\n",
    "            \n",
    "            logger.info(f\"✅ Evaluación completada: {len(resultados_modelos)} modelos evaluados\")\n",
    "            \n",
    "            # Guardar resultados\n",
    "            self.resultados['comparacion'] = resultados_comparacion\n",
    "            self.resultados['modelos'] = resultados_modelos\n",
    "            \n",
    "            return resultados_comparacion\n",
    "            \n",
    "        except Exception as e:\n",
    "            logger.error(f\"❌ Error en evaluación de modelos: {str(e)}\")\n",
    "            raise\n",
    "    \n",
    "    def entrenar_mejor_modelo(self, modelo_id: str = None) -> object:\n",
    "        \"\"\"\n",
    "        Entrena el mejor modelo identificado.\n",
    "        \n",
    "        Args:\n",
    "            modelo_id (str, optional): ID del modelo a entrenar. Si None, usa el mejor.\n",
    "            \n",
    "        Returns:\n",
    "            object: Modelo entrenado\n",
    "        \"\"\"\n",
    "        if modelo_id is None:\n",
    "            # Usar el primer modelo de la comparación (mejor scoring)\n",
    "            modelo_id = 'kmeans'  # Default seguro\n",
    "            \n",
    "        logger.info(f\"🎯 Entrenando modelo: {modelo_id}\")\n",
    "        \n",
    "        try:\n",
    "            modelo_entrenado = clustering.create_model(modelo_id)\n",
    "            logger.info(f\"✅ Modelo {modelo_id} entrenado exitosamente\")\n",
    "            \n",
    "            return modelo_entrenado\n",
    "            \n",
    "        except Exception as e:\n",
    "            logger.error(f\"❌ Error entrenando modelo {modelo_id}: {str(e)}\")\n",
    "            raise\n",
    "\n",
    "# Evaluar con PyCaret\n",
    "logger.info(\"🚀 INICIANDO EVALUACIÓN CON PYCARET\")\n",
    "print(\"=\" * 60)\n",
    "\n",
    "evaluador_pycaret = EvaluadorPyCaret(config)\n",
    "\n",
    "# Configurar y evaluar\n",
    "evaluador_pycaret.configurar_experimento(df_pycaret)\n",
    "resultados_pycaret = evaluador_pycaret.evaluar_modelos()\n",
    "\n",
    "print(\"✅ Evaluación PyCaret completada\")\n",
    "print(f\"📊 Modelos evaluados: {len(config.ALGORITMOS_PYCARET)}\")\n"
   ]
  },
  {
   "cell_type": "markdown",
   "id": "218490aa",
   "metadata": {},
   "source": [
    "## **PASO 6: Visualización de Resultados PyCaret**\n",
    "\n",
    "### **Sistema de Visualización Comprehensiva**\n",
    "\n",
    "Esta función crea un **dashboard visual completo** para analizar los resultados de PyCaret:\n",
    "\n",
    "### **Diseño de Visualizaciones**\n",
    "\n",
    "#### **Layout Principal**\n",
    "- **Grid 2x2** con 4 gráficos complementarios\n",
    "- **Título unificado** y estilo consistente\n",
    "- **Adaptación automática** a métricas disponibles\n",
    "\n",
    "#### **Gráficos Generados**\n",
    "\n",
    "1. **Gráfico 1**: Silhouette Score por Modelo\n",
    "   - Gráfico de barras horizontales\n",
    "   - Comparación directa de rendimiento\n",
    "   - Identificación visual del mejor modelo\n",
    "\n",
    "2. **Gráfico 2**: Segunda Métrica Disponible\n",
    "   - Calinski-Harabasz o Davies-Bouldin\n",
    "   - Validación cruzada de resultados\n",
    "   - Confirmación de patrones\n",
    "\n",
    "3. **Gráfico 3**: Comparación Bidimensional\n",
    "   - Scatter plot de métricas principales\n",
    "   - Análisis de correlación entre métricas\n",
    "   - Identificación de outliers\n",
    "\n",
    "4. **Gráfico 4**: Ranking de Modelos\n",
    "   - Ranking visual ordenado\n",
    "   - Identificación clara del ganador\n",
    "   - Comparación relativa de rendimiento\n",
    "\n",
    "### **Tabla de Resultados**\n",
    "- **Tabla formatted** con todos los resultados\n",
    "- **Métricas numéricas** precisas\n",
    "- **Comparación detallada** modelo por modelo\n",
    "\n",
    "### **Interpretación Visual**\n",
    "- **Identificación rápida** del mejor algoritmo\n",
    "- **Análisis de trade-offs** entre métricas\n",
    "- **Validación** de consistencia en resultados\n",
    "\n",
    "---"
   ]
  },
  {
   "cell_type": "code",
   "execution_count": 11,
   "id": "cc391f73",
   "metadata": {},
   "outputs": [
    {
     "name": "stderr",
     "output_type": "stream",
     "text": [
      "2025-06-21 16:44:13,130 - INFO - 📊 Generando visualizaciones de resultados PyCaret\n"
     ]
    },
    {
     "data": {
      "image/png": "[encoded data removed]",
      "text/plain": [
       "<Figure size 1500x1200 with 4 Axes>"
      ]
     },
     "metadata": {},
     "output_type": "display_data"
    },
    {
     "name": "stdout",
     "output_type": "stream",
     "text": [
      "\n",
      "📋 TABLA DE RESULTADOS PYCARET:\n",
      "==================================================\n",
      "   Modelo                          Objeto_Modelo                                                                                                                                                                                                                                                                                                                                                                                                                                                                                                                                                                                                                                                                                                                                                                                                                                                                                                                                                                                                                                                                                                                                                                                                                                                                                                                                                                                                                                                                                                                                                                                                                                                                                                                                                                                                                                                                                                                                                                                                                                                                                                                                                                                                                                                                                                                                                                                                                                                                                                                                                                                                                                                                                                                                                                                                                                                                                                                                                                                                                                                                                                                                                                                                                                                                                                                                                                                                                                                                                                                                                                                                                                                                                                                                                                                                                                                                                                                                                                                                                                                                                                                                         Datos_Asignados\n",
      "0  kmeans  KMeans(n_clusters=4, random_state=42)                                             ATC_label  VÍA ADMINISTRACIÓN_label  PRINCIPIO ACTIVO_label  \\\n",
      "0            526                        34                   10623   \n",
      "1            647                        34                   10623   \n",
      "2           1386                        21                   13088   \n",
      "3            136                        34                    6183   \n",
      "4           1782                        34                   20232   \n",
      "...          ...                       ...                     ...   \n",
      "49995        286                        34                   17684   \n",
      "49996       1794                        34                     490   \n",
      "49997         82                        34                    3617   \n",
      "49998       2056                        34                     525   \n",
      "49999        642                        34                   18209   \n",
      "\n",
      "       FORMA FARMACÉUTICA_label  CANTIDAD_log  CANTIDAD_CUM_log  \\\n",
      "0                            87      3.258096          5.484797   \n",
      "1                            93      2.602690          3.433987   \n",
      "2                            62      3.931826          0.693147   \n",
      "3                            50      0.314811          1.609438   \n",
      "4                           102      6.216606          4.615120   \n",
      "...                         ...           ...               ...   \n",
      "49995                        51      1.029619          3.828641   \n",
      "49996                         4      6.216606          1.609438   \n",
      "49997                         4      3.044523          3.931826   \n",
      "49998                        50      6.216606          3.044523   \n",
      "49999                        87      4.394449          4.615120   \n",
      "\n",
      "       RATIO_CANTIDAD  CANTIDAD_bin  UNIDAD MEDIDA_label  ATC_prob_validos  \\\n",
      "0            0.104167             1                  131          0.001145   \n",
      "1            0.416667             1                  131          0.005161   \n",
      "2           50.000000             1                  131          0.001048   \n",
      "3            0.092500             0                  110          0.000548   \n",
      "4            5.000000             2                  131          0.000871   \n",
      "...               ...           ...                  ...               ...   \n",
      "49995        0.040000             0                  131          0.005032   \n",
      "49996      125.000000             2                  131          0.040964   \n",
      "49997        0.400000             1                  131          0.005354   \n",
      "49998       25.000000             2                  131          0.009693   \n",
      "49999        0.800000             1                  131          0.003467   \n",
      "\n",
      "       VÍA ADMINISTRACIÓN_prob_validos  PRINCIPIO ACTIVO_prob_validos  \\\n",
      "0                             0.680015                       0.008580   \n",
      "1                             0.680015                       0.008580   \n",
      "2                             0.049447                       0.000871   \n",
      "3                             0.680015                       0.004612   \n",
      "4                             0.680015                       0.000306   \n",
      "...                                ...                            ...   \n",
      "49995                         0.680015                       0.000274   \n",
      "49996                         0.680015                       0.018289   \n",
      "49997                         0.680015                       0.000806   \n",
      "49998                         0.680015                       0.000564   \n",
      "49999                         0.680015                       0.003113   \n",
      "\n",
      "       score_prob_critica    Cluster  \n",
      "0                0.229913  Cluster 2  \n",
      "1                0.231252  Cluster 2  \n",
      "2                0.017122  Cluster 3  \n",
      "3                0.228392  Cluster 1  \n",
      "4                0.227064  Cluster 2  \n",
      "...                   ...        ...  \n",
      "49995            0.228440  Cluster 1  \n",
      "49996            0.246422  Cluster 2  \n",
      "49997            0.228725  Cluster 2  \n",
      "49998            0.230091  Cluster 2  \n",
      "49999            0.228865  Cluster 2  \n",
      "\n",
      "[50000 rows x 14 columns]\n",
      "1  optics                      OPTICS(n_jobs=-1)         ATC_label  VÍA ADMINISTRACIÓN_label  PRINCIPIO ACTIVO_label  \\\n",
      "0            526                        34                   10623   \n",
      "1            647                        34                   10623   \n",
      "2           1386                        21                   13088   \n",
      "3            136                        34                    6183   \n",
      "4           1782                        34                   20232   \n",
      "...          ...                       ...                     ...   \n",
      "49995        286                        34                   17684   \n",
      "49996       1794                        34                     490   \n",
      "49997         82                        34                    3617   \n",
      "49998       2056                        34                     525   \n",
      "49999        642                        34                   18209   \n",
      "\n",
      "       FORMA FARMACÉUTICA_label  CANTIDAD_log  CANTIDAD_CUM_log  \\\n",
      "0                            87      3.258096          5.484797   \n",
      "1                            93      2.602690          3.433987   \n",
      "2                            62      3.931826          0.693147   \n",
      "3                            50      0.314811          1.609438   \n",
      "4                           102      6.216606          4.615120   \n",
      "...                         ...           ...               ...   \n",
      "49995                        51      1.029619          3.828641   \n",
      "49996                         4      6.216606          1.609438   \n",
      "49997                         4      3.044523          3.931826   \n",
      "49998                        50      6.216606          3.044523   \n",
      "49999                        87      4.394449          4.615120   \n",
      "\n",
      "       RATIO_CANTIDAD  CANTIDAD_bin  UNIDAD MEDIDA_label  ATC_prob_validos  \\\n",
      "0            0.104167             1                  131          0.001145   \n",
      "1            0.416667             1                  131          0.005161   \n",
      "2           50.000000             1                  131          0.001048   \n",
      "3            0.092500             0                  110          0.000548   \n",
      "4            5.000000             2                  131          0.000871   \n",
      "...               ...           ...                  ...               ...   \n",
      "49995        0.040000             0                  131          0.005032   \n",
      "49996      125.000000             2                  131          0.040964   \n",
      "49997        0.400000             1                  131          0.005354   \n",
      "49998       25.000000             2                  131          0.009693   \n",
      "49999        0.800000             1                  131          0.003467   \n",
      "\n",
      "       VÍA ADMINISTRACIÓN_prob_validos  PRINCIPIO ACTIVO_prob_validos  \\\n",
      "0                             0.680015                       0.008580   \n",
      "1                             0.680015                       0.008580   \n",
      "2                             0.049447                       0.000871   \n",
      "3                             0.680015                       0.004612   \n",
      "4                             0.680015                       0.000306   \n",
      "...                                ...                            ...   \n",
      "49995                         0.680015                       0.000274   \n",
      "49996                         0.680015                       0.018289   \n",
      "49997                         0.680015                       0.000806   \n",
      "49998                         0.680015                       0.000564   \n",
      "49999                         0.680015                       0.003113   \n",
      "\n",
      "       score_prob_critica       Cluster  \n",
      "0                0.229913     Cluster 0  \n",
      "1                0.231252    Cluster 26  \n",
      "2                0.017122  Cluster 2770  \n",
      "3                0.228392  Cluster 2454  \n",
      "4                0.227064    Cluster -1  \n",
      "...                   ...           ...  \n",
      "49995            0.228440  Cluster 2220  \n",
      "49996            0.246422  Cluster 1619  \n",
      "49997            0.228725  Cluster 1297  \n",
      "49998            0.230091  Cluster 1523  \n",
      "49999            0.228865    Cluster 77  \n",
      "\n",
      "[50000 rows x 14 columns]\n",
      "2   birch                    Birch(n_clusters=4)                                             ATC_label  VÍA ADMINISTRACIÓN_label  PRINCIPIO ACTIVO_label  \\\n",
      "0            526                        34                   10623   \n",
      "1            647                        34                   10623   \n",
      "2           1386                        21                   13088   \n",
      "3            136                        34                    6183   \n",
      "4           1782                        34                   20232   \n",
      "...          ...                       ...                     ...   \n",
      "49995        286                        34                   17684   \n",
      "49996       1794                        34                     490   \n",
      "49997         82                        34                    3617   \n",
      "49998       2056                        34                     525   \n",
      "49999        642                        34                   18209   \n",
      "\n",
      "       FORMA FARMACÉUTICA_label  CANTIDAD_log  CANTIDAD_CUM_log  \\\n",
      "0                            87      3.258096          5.484797   \n",
      "1                            93      2.602690          3.433987   \n",
      "2                            62      3.931826          0.693147   \n",
      "3                            50      0.314811          1.609438   \n",
      "4                           102      6.216606          4.615120   \n",
      "...                         ...           ...               ...   \n",
      "49995                        51      1.029619          3.828641   \n",
      "49996                         4      6.216606          1.609438   \n",
      "49997                         4      3.044523          3.931826   \n",
      "49998                        50      6.216606          3.044523   \n",
      "49999                        87      4.394449          4.615120   \n",
      "\n",
      "       RATIO_CANTIDAD  CANTIDAD_bin  UNIDAD MEDIDA_label  ATC_prob_validos  \\\n",
      "0            0.104167             1                  131          0.001145   \n",
      "1            0.416667             1                  131          0.005161   \n",
      "2           50.000000             1                  131          0.001048   \n",
      "3            0.092500             0                  110          0.000548   \n",
      "4            5.000000             2                  131          0.000871   \n",
      "...               ...           ...                  ...               ...   \n",
      "49995        0.040000             0                  131          0.005032   \n",
      "49996      125.000000             2                  131          0.040964   \n",
      "49997        0.400000             1                  131          0.005354   \n",
      "49998       25.000000             2                  131          0.009693   \n",
      "49999        0.800000             1                  131          0.003467   \n",
      "\n",
      "       VÍA ADMINISTRACIÓN_prob_validos  PRINCIPIO ACTIVO_prob_validos  \\\n",
      "0                             0.680015                       0.008580   \n",
      "1                             0.680015                       0.008580   \n",
      "2                             0.049447                       0.000871   \n",
      "3                             0.680015                       0.004612   \n",
      "4                             0.680015                       0.000306   \n",
      "...                                ...                            ...   \n",
      "49995                         0.680015                       0.000274   \n",
      "49996                         0.680015                       0.018289   \n",
      "49997                         0.680015                       0.000806   \n",
      "49998                         0.680015                       0.000564   \n",
      "49999                         0.680015                       0.003113   \n",
      "\n",
      "       score_prob_critica    Cluster  \n",
      "0                0.229913  Cluster 3  \n",
      "1                0.231252  Cluster 3  \n",
      "2                0.017122  Cluster 1  \n",
      "3                0.228392  Cluster 2  \n",
      "4                0.227064  Cluster 3  \n",
      "...                   ...        ...  \n",
      "49995            0.228440  Cluster 2  \n",
      "49996            0.246422  Cluster 3  \n",
      "49997            0.228725  Cluster 3  \n",
      "49998            0.230091  Cluster 3  \n",
      "49999            0.228865  Cluster 3  \n",
      "\n",
      "[50000 rows x 14 columns]\n",
      "\n",
      "✅ Visualización de resultados PyCaret completada\n"
     ]
    }
   ],
   "source": [
    "# 6. VISUALIZACIÓN DE RESULTADOS PYCARET\n",
    "# ====================================================================\n",
    "\n",
    "def visualizar_resultados_pycaret(resultados: pd.DataFrame) -> None:\n",
    "    \"\"\"\n",
    "    Crea visualizaciones de los resultados de PyCaret.\n",
    "    \n",
    "    Args:\n",
    "        resultados (pd.DataFrame): Resultados de la comparación de modelos\n",
    "    \"\"\"\n",
    "    logger.info(\"📊 Generando visualizaciones de resultados PyCaret\")\n",
    "    \n",
    "    # Configuración de la figura\n",
    "    fig, axes = plt.subplots(2, 2, figsize=(15, 12))\n",
    "    fig.suptitle('🧪 Evaluación de Modelos de Clustering - PyCaret', fontsize=16, fontweight='bold')\n",
    "    \n",
    "    # Métricas disponibles (ajustar según las columnas reales)\n",
    "    metricas_disponibles = [col for col in resultados.columns if col in ['Silhouette', 'Calinski-Harabasz', 'Davies-Bouldin']]\n",
    "    \n",
    "    if len(metricas_disponibles) >= 1:\n",
    "        # Gráfico 1: Silhouette Score\n",
    "        ax1 = axes[0, 0]\n",
    "        metrica1 = metricas_disponibles[0]\n",
    "        ax1.barh(range(len(resultados)), resultados[metrica1])\n",
    "        ax1.set_yticks(range(len(resultados)))\n",
    "        ax1.set_yticklabels(resultados.index)\n",
    "        ax1.set_xlabel(metrica1)\n",
    "        ax1.set_title(f'📊 {metrica1} por Modelo')\n",
    "        ax1.grid(axis='x', alpha=0.3)\n",
    "    \n",
    "    if len(metricas_disponibles) >= 2:\n",
    "        # Gráfico 2: Segunda métrica\n",
    "        ax2 = axes[0, 1]\n",
    "        metrica2 = metricas_disponibles[1]\n",
    "        ax2.barh(range(len(resultados)), resultados[metrica2])\n",
    "        ax2.set_yticks(range(len(resultados)))\n",
    "        ax2.set_yticklabels(resultados.index)\n",
    "        ax2.set_xlabel(metrica2)\n",
    "        ax2.set_title(f'📊 {metrica2} por Modelo')\n",
    "        ax2.grid(axis='x', alpha=0.3)\n",
    "    \n",
    "    # Gráfico 3: Comparación general\n",
    "    ax3 = axes[1, 0]\n",
    "    if len(metricas_disponibles) >= 2:\n",
    "        ax3.scatter(resultados[metricas_disponibles[0]], resultados[metricas_disponibles[1]])\n",
    "        for i, modelo in enumerate(resultados.index):\n",
    "            ax3.annotate(modelo, (resultados[metricas_disponibles[0]].iloc[i], \n",
    "                                resultados[metricas_disponibles[1]].iloc[i]))\n",
    "        ax3.set_xlabel(metricas_disponibles[0])\n",
    "        ax3.set_ylabel(metricas_disponibles[1])\n",
    "        ax3.set_title('🎯 Comparación de Métricas')\n",
    "        ax3.grid(alpha=0.3)\n",
    "    \n",
    "    # Gráfico 4: Ranking de modelos\n",
    "    ax4 = axes[1, 1]\n",
    "    ranking = list(range(1, len(resultados) + 1))\n",
    "    ax4.barh(range(len(resultados)), ranking)\n",
    "    ax4.set_yticks(range(len(resultados)))\n",
    "    ax4.set_yticklabels(resultados.index)\n",
    "    ax4.set_xlabel('Ranking (1 = Mejor)')\n",
    "    ax4.set_title('🏆 Ranking de Modelos')\n",
    "    ax4.grid(axis='x', alpha=0.3)\n",
    "    \n",
    "    plt.tight_layout()\n",
    "    plt.show()\n",
    "    \n",
    "    # Mostrar tabla de resultados\n",
    "    print(\"\\n📋 TABLA DE RESULTADOS PYCARET:\")\n",
    "    print(\"=\" * 50)\n",
    "    print(resultados.to_string())\n",
    "\n",
    "# Generar visualizaciones\n",
    "visualizar_resultados_pycaret(resultados_pycaret)\n",
    "\n",
    "print(\"\\n✅ Visualización de resultados PyCaret completada\")"
   ]
  }
 ],
 "metadata": {
  "kernelspec": {
   "display_name": ".venv",
   "language": "python",
   "name": "python3"
  },
  "language_info": {
   "codemirror_mode": {
    "name": "ipython",
    "version": 3
   },
   "file_extension": ".py",
   "mimetype": "text/x-python",
   "name": "python",
   "nbconvert_exporter": "python",
   "pygments_lexer": "ipython3",
   "version": "3.10.11"
  }
 },
 "nbformat": 4,
 "nbformat_minor": 5
}
