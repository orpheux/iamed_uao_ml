{
 "cells": [
  {
   "cell_type": "markdown",
   "id": "10b7f5a1",
   "metadata": {},
   "source": [
    "# Paso 1: Importar librerías necesarias"
   ]
  },
  {
   "cell_type": "code",
   "execution_count": null,
   "id": "291bfb3b",
   "metadata": {},
   "outputs": [],
   "source": [
    "import pandas as pd\n",
    "from pycaret.classification import *\n",
    "from sklearn.datasets import load_iris"
   ]
  },
  {
   "cell_type": "markdown",
   "id": "084589de",
   "metadata": {},
   "source": [
    "# Paso 2: Cargar el dataset iris desde sklearn"
   ]
  },
  {
   "cell_type": "code",
   "execution_count": null,
   "id": "2f48e4d9",
   "metadata": {},
   "outputs": [],
   "source": [
    "iris = load_iris(as_frame=True)\n",
    "df = iris.frame\n",
    "df['target'] = iris.target  # Ya viene como 'target' pero aseguramos su nombre"
   ]
  },
  {
   "cell_type": "code",
   "execution_count": null,
   "id": "28d24f9c",
   "metadata": {},
   "outputs": [],
   "source": [
    "df.head(5)"
   ]
  },
  {
   "cell_type": "markdown",
   "id": "341e88d1",
   "metadata": {},
   "source": [
    "# Paso 3: Inicializar el entorno de PyCaret"
   ]
  },
  {
   "cell_type": "code",
   "execution_count": null,
   "id": "26abcbea",
   "metadata": {},
   "outputs": [],
   "source": [
    "clf1 = setup(\n",
    "    data=df,\n",
    "    target='target',\n",
    "    session_id=123,          # Para reproducibilidad\n",
    "    #verbose=False            # Menos salida en consola\n",
    ")"
   ]
  },
  {
   "cell_type": "markdown",
   "id": "3b6d86b5",
   "metadata": {},
   "source": [
    "# Paso 4: Comparar modelos y seleccionar el mejor automáticamente"
   ]
  },
  {
   "cell_type": "code",
   "execution_count": null,
   "id": "8a5dc81a",
   "metadata": {},
   "outputs": [],
   "source": [
    "best_model = compare_models(n_select=5)"
   ]
  },
  {
   "cell_type": "code",
   "execution_count": null,
   "id": "399ebe83",
   "metadata": {},
   "outputs": [],
   "source": [
    "best_model"
   ]
  },
  {
   "cell_type": "code",
   "execution_count": null,
   "id": "bef2a23b",
   "metadata": {},
   "outputs": [],
   "source": [
    "best_model_1 = create_model(best_model[0])\n",
    "best_model_2 = create_model(best_model[1])\n",
    "best_model_3 = create_model(best_model[2])\n",
    "best_model_4 = create_model(best_model[3])\n",
    "best_model_5 = create_model(best_model[4])"
   ]
  },
  {
   "cell_type": "markdown",
   "id": "ed5f15be",
   "metadata": {},
   "source": [
    "# Paso 5: Evaluar el modelo (opcional, abre una interfaz visual)"
   ]
  },
  {
   "cell_type": "code",
   "execution_count": null,
   "id": "efe4a9f1",
   "metadata": {},
   "outputs": [],
   "source": [
    "evaluate_model(best_model_1)"
   ]
  },
  {
   "cell_type": "markdown",
   "id": "a3de1155",
   "metadata": {},
   "source": [
    "# Paso 6: Hacer predicciones sobre nuevos datos"
   ]
  },
  {
   "cell_type": "code",
   "execution_count": null,
   "id": "22bfa622",
   "metadata": {},
   "outputs": [],
   "source": [
    "#predictions = predict_model(final_model, data=df)"
   ]
  },
  {
   "cell_type": "markdown",
   "id": "2bf55358",
   "metadata": {},
   "source": [
    "# Paso 7: Exportar el modelo a archivo .pkl"
   ]
  },
  {
   "cell_type": "code",
   "execution_count": null,
   "id": "6fefdc88",
   "metadata": {},
   "outputs": [],
   "source": [
    "save_model(best_model_1, 'best_iris_classifier')"
   ]
  },
  {
   "cell_type": "markdown",
   "id": "f9d747ac",
   "metadata": {},
   "source": [
    "# También puedes cargarlo después así:"
   ]
  },
  {
   "cell_type": "code",
   "execution_count": null,
   "id": "5e4ce4ba",
   "metadata": {},
   "outputs": [],
   "source": [
    "loaded_model = load_model('best_iris_classifier')"
   ]
  }
 ],
 "metadata": {
  "kernelspec": {
   "display_name": ".venv",
   "language": "python",
   "name": "python3"
  },
  "language_info": {
   "codemirror_mode": {
    "name": "ipython",
    "version": 3
   },
   "file_extension": ".py",
   "mimetype": "text/x-python",
   "name": "python",
   "nbconvert_exporter": "python",
   "pygments_lexer": "ipython3",
   "version": "3.10.11"
  }
 },
 "nbformat": 4,
 "nbformat_minor": 5
}
