{
 "cells": [
  {
   "cell_type": "code",
   "execution_count": 21,
   "id": "5f84c6b9",
   "metadata": {},
   "outputs": [],
   "source": [
    "import os\n",
    "import polars as pl\n"
   ]
  },
  {
   "cell_type": "code",
   "execution_count": 22,
   "id": "d7dd4264",
   "metadata": {},
   "outputs": [],
   "source": [
    "def target_encoding_ranking_polars(df, columna):\n",
    "    try:\n",
    "        # 1. Calcular frecuencias y ranking (igual que antes)\n",
    "        freq_ranking = (\n",
    "            df\n",
    "            .group_by(columna)\n",
    "            .agg(pl.len().alias('count'))\n",
    "            .sort('count', descending=True)\n",
    "            .with_row_index('ranking', offset=1)\n",
    "            .with_columns([\n",
    "                (pl.col('ranking') + (pl.col('count') / 10000.0))\n",
    "                .alias('encoding_value')\n",
    "            ])\n",
    "        )\n",
    "        \n",
    "        # 2. Crear diccionario de mapeo\n",
    "        encoding_map = dict(\n",
    "            zip(\n",
    "                freq_ranking[columna].to_list(),\n",
    "                freq_ranking['encoding_value'].to_list()\n",
    "            )\n",
    "        )\n",
    "        \n",
    "        return encoding_map\n",
    "        \n",
    "    except Exception as e:\n",
    "        print(f\"Error en target_encoding_ranking_polars: {e}\")\n",
    "        return {}\n",
    "\n",
    "def one_hot_encoding_polars(df, columna):\n",
    "    try:\n",
    "        # Obtener valores únicos de la columna\n",
    "        valores_unicos = df[columna].unique().to_list()\n",
    "        \n",
    "        # Crear columnas one-hot\n",
    "        expresiones_onehot = []\n",
    "        for valor in valores_unicos:\n",
    "            # Limpiar nombre de columna (remover espacios y caracteres especiales)\n",
    "            nombre_columna = f\"{columna}_{valor}\".replace(\" \", \"_\").replace(\"(\", \"\").replace(\")\", \"\").replace(\"-\", \"_\")\n",
    "            \n",
    "            # Crear expresión binaria\n",
    "            expresion = (pl.col(columna) == valor).cast(pl.Int8).alias(nombre_columna)\n",
    "            expresiones_onehot.append(expresion)\n",
    "        \n",
    "        # Aplicar todas las expresiones one-hot Y eliminar columna original\n",
    "        df_onehot = df.with_columns(expresiones_onehot).drop(columna)\n",
    "        \n",
    "        return df_onehot\n",
    "        \n",
    "    except Exception as e:\n",
    "        print(f\"Error en one_hot_encoding_polars: {e}\")\n",
    "        return df\n",
    "\n",
    "def normalizar_columna_polars(df, columna, metodo='minmax'):\n",
    "    \"\"\"\n",
    "    Normaliza una columna numérica usando MinMax o Standard Scaler.\n",
    "    \n",
    "    Args:\n",
    "        df (pl.DataFrame): DataFrame de Polars\n",
    "        columna (str): Nombre de la columna numérica a normalizar\n",
    "        metodo (str): 'minmax' o 'standard'\n",
    "    \n",
    "    Returns:\n",
    "        pl.DataFrame: DataFrame con la columna normalizada (reemplaza la original)\n",
    "        \n",
    "    Ejemplos:\n",
    "        MinMax: valores entre 0 y 1\n",
    "        Standard: media=0, desviación=1\n",
    "    \"\"\"\n",
    "    try:\n",
    "        if metodo == 'minmax':\n",
    "            # MinMax: (valor - min) / (max - min)\n",
    "            df_normalizado = df.with_columns([\n",
    "                (\n",
    "                    (pl.col(columna) - pl.col(columna).min()) / \n",
    "                    (pl.col(columna).max() - pl.col(columna).min())\n",
    "                ).alias(f\"{columna}\")\n",
    "            ])\n",
    "            \n",
    "        elif metodo == 'standard':\n",
    "            # Standard: (valor - media) / desviación\n",
    "            df_normalizado = df.with_columns([\n",
    "                (\n",
    "                    (pl.col(columna) - pl.col(columna).mean()) / \n",
    "                    pl.col(columna).std()\n",
    "                ).alias(f\"{columna}\")\n",
    "            ])\n",
    "            \n",
    "        else:\n",
    "            print(f\"Método '{metodo}' no reconocido. Usa 'minmax' o 'standard'\")\n",
    "            return df\n",
    "            \n",
    "        return df_normalizado\n",
    "        \n",
    "    except Exception as e:\n",
    "        print(f\"Error en normalizar_columna_polars: {e}\")\n",
    "        return df"
   ]
  },
  {
   "cell_type": "code",
   "execution_count": 23,
   "id": "2e7d8ed8",
   "metadata": {},
   "outputs": [
    {
     "name": "stdout",
     "output_type": "stream",
     "text": [
      "\n",
      "📊 Dataset cargado:\n",
      "   - Shape: (248635, 17)\n",
      "   - Columnas: ['CUM', 'EXPEDIENTE CUM', 'CONSECUTIVO', 'ESTADO REGISTRO', 'CANTIDAD CUM', 'ESTADO CUM', 'MUESTRA MÉDICA', 'UNIDAD', 'ATC', 'DESCRIPCIÓN_ATC', 'VÍA ADMINISTRACIÓN', 'CONCENTRACIÓN', 'PRINCIPIO ACTIVO', 'UNIDAD MEDIDA', 'CANTIDAD', 'UNIDAD REFERENCIA', 'FORMA FARMACÉUTICA']\n"
     ]
    }
   ],
   "source": [
    "# Cargar dataset original\n",
    "df_medicamentos = pl.read_parquet('./data/medicamentos_preprocesados.parquet')\n",
    "\n",
    "print(f\"\\n📊 Dataset cargado:\")\n",
    "print(f\"   - Shape: {df_medicamentos.shape}\")\n",
    "print(f\"   - Columnas: {df_medicamentos.columns}\")\n"
   ]
  },
  {
   "cell_type": "code",
   "execution_count": 24,
   "id": "e6f15e6c",
   "metadata": {},
   "outputs": [
    {
     "name": "stdout",
     "output_type": "stream",
     "text": [
      "\n",
      "💾 Guardando dataset original completo con CUM...\n",
      "✅ Dataset original con CUM guardado\n"
     ]
    }
   ],
   "source": [
    "print(\"\\n💾 Guardando dataset original completo con CUM...\")\n",
    "df_medicamentos.select([\n",
    "    'CUM',                 # ⚠️ CÓDIGO ÚNICO DEL MEDICAMENTO - NUNCA ELIMINAR\n",
    "    'ATC',                 # 2,419 únicos - Código farmacológico\n",
    "    'VÍA ADMINISTRACIÓN',  # 51 únicos - Vía de administración \n",
    "    'FORMA FARMACÉUTICA',  # 112 únicos - Presentación física\n",
    "    'PRINCIPIO ACTIVO',    # 20,321 únicos - Ingrediente activo\n",
    "    'ESTADO REGISTRO',     # 14 únicos - Estado regulatorio\n",
    "    'ESTADO CUM',          # 2 únicos - Estado del CUM\n",
    "    'MUESTRA MÉDICA',      # 2 únicos - Si es muestra\n",
    "    'CANTIDAD CUM',        # Numérica - Cantidad presentación\n",
    "    'UNIDAD',              # 13 únicos - U, ml, g   \n",
    "    'CANTIDAD',            # Numérica - Dosis\n",
    "    'UNIDAD MEDIDA',       # 180 únicos - mg, g, mcg\n",
    "    'EXPEDIENTE CUM'       # 34,653 únicos - Expediente (parte de la familia principal del medicamento)\n",
    "]).write_parquet('./data/medicamentos_train_original.parquet')\n",
    "\n",
    "print(\"✅ Dataset original con CUM guardado\")"
   ]
  },
  {
   "cell_type": "code",
   "execution_count": 25,
   "id": "67799bc0",
   "metadata": {},
   "outputs": [
    {
     "name": "stdout",
     "output_type": "stream",
     "text": [
      "\n",
      "🔨 Creando dataset de trabajo PRESERVANDO CUM...\n",
      "✅ Dataset de trabajo creado:\n",
      "   - Shape: (248635, 13)\n"
     ]
    }
   ],
   "source": [
    "print(\"\\n🔨 Creando dataset de trabajo PRESERVANDO CUM...\")\n",
    "\n",
    "# ⚠️ INCLUIR CUM EXPLÍCITAMENTE AL INICIO\n",
    "df_medicamentos_train = df_medicamentos.select([\n",
    "    'CUM',                 # ⚠️ PRESERVAR CUM - IDENTIFICADOR PRINCIPAL\n",
    "    'ATC',                 # 2,419 únicos - Código farmacológico\n",
    "    'VÍA ADMINISTRACIÓN',  # 51 únicos - Vía de administración \n",
    "    'FORMA FARMACÉUTICA',  # 112 únicos - Presentación física\n",
    "    'PRINCIPIO ACTIVO',    # 20,321 únicos - Ingrediente activo\n",
    "    'ESTADO REGISTRO',     # 14 únicos - Estado regulatorio\n",
    "    'ESTADO CUM',          # 2 únicos - Estado del CUM\n",
    "    'MUESTRA MÉDICA',      # 2 únicos - Si es muestra\n",
    "    'CANTIDAD CUM',        # Numérica - Cantidad presentación\n",
    "    'UNIDAD',              # 13 únicos - U, ml, g   \n",
    "    'CANTIDAD',            # Numérica - Dosis\n",
    "    'UNIDAD MEDIDA',       # 180 únicos - mg, g, mcg\n",
    "    'EXPEDIENTE CUM'       # 34,653 únicos - Expediente\n",
    "])\n",
    "\n",
    "\n",
    "df_medicamentos_train = df_medicamentos_train.with_columns(\n",
    "    pl.col('EXPEDIENTE CUM').cast(pl.Utf8)\n",
    ")\n",
    "\n",
    "\n",
    "print(f\"✅ Dataset de trabajo creado:\")\n",
    "print(f\"   - Shape: {df_medicamentos_train.shape}\")"
   ]
  },
  {
   "cell_type": "code",
   "execution_count": 26,
   "id": "1816c377",
   "metadata": {},
   "outputs": [
    {
     "data": {
      "text/html": [
       "<div><style>\n",
       ".dataframe > thead > tr,\n",
       ".dataframe > tbody > tr {\n",
       "  text-align: right;\n",
       "  white-space: pre-wrap;\n",
       "}\n",
       "</style>\n",
       "<small>shape: (5, 13)</small><table border=\"1\" class=\"dataframe\"><thead><tr><th>CUM</th><th>ATC</th><th>VÍA ADMINISTRACIÓN</th><th>FORMA FARMACÉUTICA</th><th>PRINCIPIO ACTIVO</th><th>ESTADO REGISTRO</th><th>ESTADO CUM</th><th>MUESTRA MÉDICA</th><th>CANTIDAD CUM</th><th>UNIDAD</th><th>CANTIDAD</th><th>UNIDAD MEDIDA</th><th>EXPEDIENTE CUM</th></tr><tr><td>str</td><td>f64</td><td>f64</td><td>f64</td><td>f64</td><td>i8</td><td>i8</td><td>i8</td><td>f64</td><td>f64</td><td>f64</td><td>f64</td><td>f64</td></tr></thead><tbody><tr><td>&quot;20167292-1&quot;</td><td>1708.0006</td><td>18.3064</td><td>7.4395</td><td>14035.0002</td><td>1</td><td>1</td><td>1</td><td>-0.071174</td><td>22.4076</td><td>-0.00413</td><td>19.1932</td><td>15511.0004</td></tr><tr><td>&quot;20015204-5&quot;</td><td>9.2139</td><td>18.3064</td><td>60.031</td><td>2411.0016</td><td>1</td><td>1</td><td>1</td><td>-0.091356</td><td>22.4076</td><td>-0.004135</td><td>19.1932</td><td>35.0224</td></tr><tr><td>&quot;20061748-3&quot;</td><td>7.284</td><td>5.8494</td><td>21.2678</td><td>218.0152</td><td>1</td><td>0</td><td>1</td><td>-0.091356</td><td>22.4076</td><td>-0.004135</td><td>6.2562</td><td>28.0243</td></tr><tr><td>&quot;20061746-8&quot;</td><td>7.284</td><td>3.8369</td><td>21.2678</td><td>224.015</td><td>1</td><td>0</td><td>0</td><td>-0.091356</td><td>22.4076</td><td>-0.004135</td><td>19.1932</td><td>27.0252</td></tr><tr><td>&quot;20009806-9&quot;</td><td>2.8577</td><td>18.3064</td><td>5.8483</td><td>12.1041</td><td>0</td><td>1</td><td>1</td><td>-0.057256</td><td>22.4076</td><td>-0.004135</td><td>19.1932</td><td>742.004</td></tr></tbody></table></div>"
      ],
      "text/plain": [
       "shape: (5, 13)\n",
       "┌────────────┬───────────┬───────────┬───────────┬───┬─────────┬───────────┬───────────┬───────────┐\n",
       "│ CUM        ┆ ATC       ┆ VÍA ADMIN ┆ FORMA FAR ┆ … ┆ UNIDAD  ┆ CANTIDAD  ┆ UNIDAD    ┆ EXPEDIENT │\n",
       "│ ---        ┆ ---       ┆ ISTRACIÓN ┆ MACÉUTICA ┆   ┆ ---     ┆ ---       ┆ MEDIDA    ┆ E CUM     │\n",
       "│ str        ┆ f64       ┆ ---       ┆ ---       ┆   ┆ f64     ┆ f64       ┆ ---       ┆ ---       │\n",
       "│            ┆           ┆ f64       ┆ f64       ┆   ┆         ┆           ┆ f64       ┆ f64       │\n",
       "╞════════════╪═══════════╪═══════════╪═══════════╪═══╪═════════╪═══════════╪═══════════╪═══════════╡\n",
       "│ 20167292-1 ┆ 1708.0006 ┆ 18.3064   ┆ 7.4395    ┆ … ┆ 22.4076 ┆ -0.00413  ┆ 19.1932   ┆ 15511.000 │\n",
       "│            ┆           ┆           ┆           ┆   ┆         ┆           ┆           ┆ 4         │\n",
       "│ 20015204-5 ┆ 9.2139    ┆ 18.3064   ┆ 60.031    ┆ … ┆ 22.4076 ┆ -0.004135 ┆ 19.1932   ┆ 35.0224   │\n",
       "│ 20061748-3 ┆ 7.284     ┆ 5.8494    ┆ 21.2678   ┆ … ┆ 22.4076 ┆ -0.004135 ┆ 6.2562    ┆ 28.0243   │\n",
       "│ 20061746-8 ┆ 7.284     ┆ 3.8369    ┆ 21.2678   ┆ … ┆ 22.4076 ┆ -0.004135 ┆ 19.1932   ┆ 27.0252   │\n",
       "│ 20009806-9 ┆ 2.8577    ┆ 18.3064   ┆ 5.8483    ┆ … ┆ 22.4076 ┆ -0.004135 ┆ 19.1932   ┆ 742.004   │\n",
       "└────────────┴───────────┴───────────┴───────────┴───┴─────────┴───────────┴───────────┴───────────┘"
      ]
     },
     "execution_count": 26,
     "metadata": {},
     "output_type": "execute_result"
    }
   ],
   "source": [
    "atc_map = target_encoding_ranking_polars(df_medicamentos, 'ATC')\n",
    "df_medicamentos_train = df_medicamentos_train.with_columns(\n",
    "    pl.col('ATC').replace(atc_map).cast(pl.Float64).alias('ATC')\n",
    ")\n",
    "\n",
    "via_map = target_encoding_ranking_polars(df_medicamentos_train, 'VÍA ADMINISTRACIÓN')\n",
    "df_medicamentos_train = df_medicamentos_train.with_columns(\n",
    "    pl.col('VÍA ADMINISTRACIÓN').replace(via_map).cast(pl.Float64).alias('VÍA ADMINISTRACIÓN')\n",
    ")\n",
    "\n",
    "forma_map = target_encoding_ranking_polars(df_medicamentos_train, 'FORMA FARMACÉUTICA')\n",
    "df_medicamentos_train = df_medicamentos_train.with_columns(\n",
    "    pl.col('FORMA FARMACÉUTICA').replace(forma_map).cast(pl.Float64).alias('FORMA FARMACÉUTICA')\n",
    ")\n",
    "\n",
    "principio_map = target_encoding_ranking_polars(df_medicamentos, 'PRINCIPIO ACTIVO')\n",
    "df_medicamentos_train = df_medicamentos_train.with_columns(\n",
    "    pl.col('PRINCIPIO ACTIVO').replace(principio_map).cast(pl.Float64).alias('PRINCIPIO ACTIVO')\n",
    ")\n",
    "\n",
    "df_medicamentos_train = df_medicamentos_train.with_columns(\n",
    "    pl.col('ESTADO REGISTRO').map_elements(lambda x: 1 if x == \"Vigente\" else 0, return_dtype=pl.Int8),\n",
    "    pl.col('ESTADO CUM').map_elements(lambda x: 1 if x == \"Activo\" else 0, return_dtype=pl.Int8),\n",
    "    pl.col('MUESTRA MÉDICA').map_elements(lambda x: 1 if x == \"No\" else 0, return_dtype=pl.Int8),\n",
    ")\n",
    "\n",
    "df_medicamentos_train = normalizar_columna_polars(df_medicamentos_train, 'CANTIDAD CUM', 'standard')\n",
    "df_medicamentos_train = normalizar_columna_polars(df_medicamentos_train, 'CANTIDAD', 'standard')\n",
    "\n",
    "unidad_map = target_encoding_ranking_polars(df_medicamentos, 'UNIDAD')\n",
    "df_medicamentos_train = df_medicamentos_train.with_columns(\n",
    "    pl.col('UNIDAD').replace(unidad_map).cast(pl.Float64).alias('UNIDAD')\n",
    ")\n",
    "\n",
    "unimed_map = target_encoding_ranking_polars(df_medicamentos, 'UNIDAD MEDIDA')\n",
    "df_medicamentos_train = df_medicamentos_train.with_columns(\n",
    "    pl.col('UNIDAD MEDIDA').replace(unimed_map).cast(pl.Float64).alias('UNIDAD MEDIDA')\n",
    ")\n",
    "\n",
    "expediente_map = target_encoding_ranking_polars(df_medicamentos, 'EXPEDIENTE CUM')\n",
    "df_medicamentos_train = df_medicamentos_train.with_columns(\n",
    "    pl.col('EXPEDIENTE CUM').replace(expediente_map).cast(pl.Float64).alias('EXPEDIENTE CUM')\n",
    ")\n",
    "\n",
    "# df_medicamentos_train = df_medicamentos_train.with_columns([\n",
    "#     (\n",
    "#         (pl.col('ESTADO REGISTRO') == 1) &\n",
    "#         (pl.col('ESTADO CUM') == 1) &\n",
    "#         (pl.col('MUESTRA MÉDICA') == 1)\n",
    "#     ).cast(pl.Int8).alias('ES_VALIDO')\n",
    "# ])\n",
    "\n",
    "df_medicamentos_train.head(5)"
   ]
  },
  {
   "cell_type": "code",
   "execution_count": 27,
   "id": "3fcb368e",
   "metadata": {},
   "outputs": [
    {
     "name": "stdout",
     "output_type": "stream",
     "text": [
      "\n",
      "📊 ESTRUCTURA DEL DATASET FINAL:\n",
      "   - Shape: (248635, 13)\n",
      "   - Columnas totales: 13\n",
      "   - CUM presente: True\n",
      "   - Primera columna: CUM\n"
     ]
    }
   ],
   "source": [
    "print(f\"\\n📊 ESTRUCTURA DEL DATASET FINAL:\")\n",
    "print(f\"   - Shape: {df_medicamentos_train.shape}\")\n",
    "print(f\"   - Columnas totales: {len(df_medicamentos_train.columns)}\")\n",
    "print(f\"   - CUM presente: {'CUM' in df_medicamentos_train.columns}\")\n",
    "# print(f\"   - ES_VALIDO presente: {'ES_VALIDO' in df_medicamentos_train.columns}\")\n",
    "print(f\"   - Primera columna: {df_medicamentos_train.columns[0]}\")\n"
   ]
  },
  {
   "cell_type": "code",
   "execution_count": 28,
   "id": "a2d6c617",
   "metadata": {},
   "outputs": [],
   "source": [
    "df_medicamentos_train.write_parquet('./data/medicamentos_train_preprocesados.parquet')"
   ]
  },
  {
   "cell_type": "code",
   "execution_count": 29,
   "id": "eb1625d7",
   "metadata": {},
   "outputs": [
    {
     "data": {
      "text/html": [
       "<div><style>\n",
       ".dataframe > thead > tr,\n",
       ".dataframe > tbody > tr {\n",
       "  text-align: right;\n",
       "  white-space: pre-wrap;\n",
       "}\n",
       "</style>\n",
       "<small>shape: (248_635, 13)</small><table border=\"1\" class=\"dataframe\"><thead><tr><th>CUM</th><th>ATC</th><th>VÍA ADMINISTRACIÓN</th><th>FORMA FARMACÉUTICA</th><th>PRINCIPIO ACTIVO</th><th>ESTADO REGISTRO</th><th>ESTADO CUM</th><th>MUESTRA MÉDICA</th><th>CANTIDAD CUM</th><th>UNIDAD</th><th>CANTIDAD</th><th>UNIDAD MEDIDA</th><th>EXPEDIENTE CUM</th></tr><tr><td>str</td><td>f64</td><td>f64</td><td>f64</td><td>f64</td><td>i8</td><td>i8</td><td>i8</td><td>f64</td><td>f64</td><td>f64</td><td>f64</td><td>f64</td></tr></thead><tbody><tr><td>&quot;20167292-1&quot;</td><td>1708.0006</td><td>18.3064</td><td>7.4395</td><td>14035.0002</td><td>1</td><td>1</td><td>1</td><td>-0.071174</td><td>22.4076</td><td>-0.00413</td><td>19.1932</td><td>15511.0004</td></tr><tr><td>&quot;20015204-5&quot;</td><td>9.2139</td><td>18.3064</td><td>60.031</td><td>2411.0016</td><td>1</td><td>1</td><td>1</td><td>-0.091356</td><td>22.4076</td><td>-0.004135</td><td>19.1932</td><td>35.0224</td></tr><tr><td>&quot;20061748-3&quot;</td><td>7.284</td><td>5.8494</td><td>21.2678</td><td>218.0152</td><td>1</td><td>0</td><td>1</td><td>-0.091356</td><td>22.4076</td><td>-0.004135</td><td>6.2562</td><td>28.0243</td></tr><tr><td>&quot;20061746-8&quot;</td><td>7.284</td><td>3.8369</td><td>21.2678</td><td>224.015</td><td>1</td><td>0</td><td>0</td><td>-0.091356</td><td>22.4076</td><td>-0.004135</td><td>19.1932</td><td>27.0252</td></tr><tr><td>&quot;20009806-9&quot;</td><td>2.8577</td><td>18.3064</td><td>5.8483</td><td>12.1041</td><td>0</td><td>1</td><td>1</td><td>-0.057256</td><td>22.4076</td><td>-0.004135</td><td>19.1932</td><td>742.004</td></tr><tr><td>&hellip;</td><td>&hellip;</td><td>&hellip;</td><td>&hellip;</td><td>&hellip;</td><td>&hellip;</td><td>&hellip;</td><td>&hellip;</td><td>&hellip;</td><td>&hellip;</td><td>&hellip;</td><td>&hellip;</td><td>&hellip;</td></tr><tr><td>&quot;20048292-2&quot;</td><td>17.1415</td><td>18.3064</td><td>4.754</td><td>2779.0014</td><td>0</td><td>0</td><td>1</td><td>-0.085093</td><td>22.4076</td><td>-0.004135</td><td>19.1932</td><td>3537.0014</td></tr><tr><td>&quot;19927508-2&quot;</td><td>573.0075</td><td>18.3064</td><td>8.6413</td><td>41.0548</td><td>0</td><td>0</td><td>1</td><td>-0.00854</td><td>22.4076</td><td>-0.004135</td><td>6.2562</td><td>26146.0002</td></tr><tr><td>&quot;19952712-1&quot;</td><td>1430.0011</td><td>18.3064</td><td>5.7013</td><td>3453.0011</td><td>1</td><td>1</td><td>1</td><td>-0.022459</td><td>22.4076</td><td>-0.004135</td><td>19.1932</td><td>9480.0006</td></tr><tr><td>&quot;20043340-21&quot;</td><td>85.0576</td><td>18.3064</td><td>4.754</td><td>372.0096</td><td>1</td><td>1</td><td>0</td><td>-0.087181</td><td>22.4076</td><td>-0.004135</td><td>19.1932</td><td>48.0192</td></tr><tr><td>&quot;19977782-16&quot;</td><td>200.0265</td><td>3.8369</td><td>21.2678</td><td>1034.0035</td><td>1</td><td>1</td><td>0</td><td>-0.085093</td><td>22.4076</td><td>-0.004135</td><td>19.1932</td><td>438.0056</td></tr></tbody></table></div>"
      ],
      "text/plain": [
       "shape: (248_635, 13)\n",
       "┌────────────┬───────────┬───────────┬───────────┬───┬─────────┬───────────┬───────────┬───────────┐\n",
       "│ CUM        ┆ ATC       ┆ VÍA ADMIN ┆ FORMA FAR ┆ … ┆ UNIDAD  ┆ CANTIDAD  ┆ UNIDAD    ┆ EXPEDIENT │\n",
       "│ ---        ┆ ---       ┆ ISTRACIÓN ┆ MACÉUTICA ┆   ┆ ---     ┆ ---       ┆ MEDIDA    ┆ E CUM     │\n",
       "│ str        ┆ f64       ┆ ---       ┆ ---       ┆   ┆ f64     ┆ f64       ┆ ---       ┆ ---       │\n",
       "│            ┆           ┆ f64       ┆ f64       ┆   ┆         ┆           ┆ f64       ┆ f64       │\n",
       "╞════════════╪═══════════╪═══════════╪═══════════╪═══╪═════════╪═══════════╪═══════════╪═══════════╡\n",
       "│ 20167292-1 ┆ 1708.0006 ┆ 18.3064   ┆ 7.4395    ┆ … ┆ 22.4076 ┆ -0.00413  ┆ 19.1932   ┆ 15511.000 │\n",
       "│            ┆           ┆           ┆           ┆   ┆         ┆           ┆           ┆ 4         │\n",
       "│ 20015204-5 ┆ 9.2139    ┆ 18.3064   ┆ 60.031    ┆ … ┆ 22.4076 ┆ -0.004135 ┆ 19.1932   ┆ 35.0224   │\n",
       "│ 20061748-3 ┆ 7.284     ┆ 5.8494    ┆ 21.2678   ┆ … ┆ 22.4076 ┆ -0.004135 ┆ 6.2562    ┆ 28.0243   │\n",
       "│ 20061746-8 ┆ 7.284     ┆ 3.8369    ┆ 21.2678   ┆ … ┆ 22.4076 ┆ -0.004135 ┆ 19.1932   ┆ 27.0252   │\n",
       "│ 20009806-9 ┆ 2.8577    ┆ 18.3064   ┆ 5.8483    ┆ … ┆ 22.4076 ┆ -0.004135 ┆ 19.1932   ┆ 742.004   │\n",
       "│ …          ┆ …         ┆ …         ┆ …         ┆ … ┆ …       ┆ …         ┆ …         ┆ …         │\n",
       "│ 20048292-2 ┆ 17.1415   ┆ 18.3064   ┆ 4.754     ┆ … ┆ 22.4076 ┆ -0.004135 ┆ 19.1932   ┆ 3537.0014 │\n",
       "│ 19927508-2 ┆ 573.0075  ┆ 18.3064   ┆ 8.6413    ┆ … ┆ 22.4076 ┆ -0.004135 ┆ 6.2562    ┆ 26146.000 │\n",
       "│            ┆           ┆           ┆           ┆   ┆         ┆           ┆           ┆ 2         │\n",
       "│ 19952712-1 ┆ 1430.0011 ┆ 18.3064   ┆ 5.7013    ┆ … ┆ 22.4076 ┆ -0.004135 ┆ 19.1932   ┆ 9480.0006 │\n",
       "│ 20043340-2 ┆ 85.0576   ┆ 18.3064   ┆ 4.754     ┆ … ┆ 22.4076 ┆ -0.004135 ┆ 19.1932   ┆ 48.0192   │\n",
       "│ 1          ┆           ┆           ┆           ┆   ┆         ┆           ┆           ┆           │\n",
       "│ 19977782-1 ┆ 200.0265  ┆ 3.8369    ┆ 21.2678   ┆ … ┆ 22.4076 ┆ -0.004135 ┆ 19.1932   ┆ 438.0056  │\n",
       "│ 6          ┆           ┆           ┆           ┆   ┆         ┆           ┆           ┆           │\n",
       "└────────────┴───────────┴───────────┴───────────┴───┴─────────┴───────────┴───────────┴───────────┘"
      ]
     },
     "execution_count": 29,
     "metadata": {},
     "output_type": "execute_result"
    }
   ],
   "source": [
    "df_medicamentos_train"
   ]
  },
  {
   "cell_type": "markdown",
   "id": "c6321015",
   "metadata": {},
   "source": []
  }
 ],
 "metadata": {
  "kernelspec": {
   "display_name": ".venv",
   "language": "python",
   "name": "python3"
  },
  "language_info": {
   "codemirror_mode": {
    "name": "ipython",
    "version": 3
   },
   "file_extension": ".py",
   "mimetype": "text/x-python",
   "name": "python",
   "nbconvert_exporter": "python",
   "pygments_lexer": "ipython3",
   "version": "3.10.11"
  }
 },
 "nbformat": 4,
 "nbformat_minor": 5
}
